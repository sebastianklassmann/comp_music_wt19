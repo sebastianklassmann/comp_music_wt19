{
 "cells": [
  {
   "cell_type": "markdown",
   "metadata": {
    "slideshow": {
     "slide_type": "slide"
    }
   },
   "source": [
    "<a name=\"intro\"></a>\n",
    "### A Brief Introduction to Collaboration via GitHub"
   ]
  },
  {
   "cell_type": "markdown",
   "metadata": {
    "slideshow": {
     "slide_type": "fragment"
    }
   },
   "source": [
    "![](images/GHLogo.jpg)\n",
    "author: &nbsp;&nbsp; sklassm1@uni-koeln.de  \n",
    "date: &nbsp;&nbsp;&nbsp;&nbsp;&nbsp; 21.10.2019  \n",
    "version:&nbsp;&nbsp; 1.3 (reviewed by u.seifert@uni-koeln.de)"
   ]
  },
  {
   "cell_type": "markdown",
   "metadata": {
    "slideshow": {
     "slide_type": "slide"
    }
   },
   "source": [
    "#### Table of Contents\n",
    "* [Introduction to GitHub](#intro)\n",
    "* [A minimal introduction to the Unix terminal](#terminal)  \n",
    "* [Using GitHub #1](#github1)\n",
    "* [Branching in GitHub](#branching)\n",
    "* [GitHub Pull requests](#pull)\n",
    "* [GitHub Classroom](#class)\n",
    "* [References](#bibli)"
   ]
  },
  {
   "cell_type": "markdown",
   "metadata": {
    "slideshow": {
     "slide_type": "slide"
    }
   },
   "source": [
    "**What is GitHub?**"
   ]
  },
  {
   "cell_type": "markdown",
   "metadata": {
    "slideshow": {
     "slide_type": "fragment"
    }
   },
   "source": [
    "GitHub is an online server for hosting remote projects (repositories, or repos) using the GIT version control software.<br>\n",
    "In fact, with GitHub, we can have an online repository that all collaborators can work on within local clones/copies of that repo. This diagram might be helpful:"
   ]
  },
  {
   "cell_type": "markdown",
   "metadata": {},
   "source": [
    "![](images/gitrepo.png)"
   ]
  },
  {
   "cell_type": "markdown",
   "metadata": {
    "slideshow": {
     "slide_type": "slide"
    }
   },
   "source": [
    "There are a few steps towards a successful collaboration on GitHub. However, the extra effort of using the command line for configuring and working within has an obvious advantage when working with the Jupyterlab interface. Also, the command line interface is more flexible and less of a hassle to integrate with local (or, as in our case, *remotely* local) clones of online repositories."
   ]
  },
  {
   "cell_type": "markdown",
   "metadata": {
    "slideshow": {
     "slide_type": "slide"
    }
   },
   "source": [
    "Set up a GitHub account, if you haven't already done so! www.github.com"
   ]
  },
  {
   "cell_type": "markdown",
   "metadata": {
    "slideshow": {
     "slide_type": "fragment"
    }
   },
   "source": [
    "Email me to be added to our repository as a collaborator, including your user name.  \n",
    "You have to be invited to collaborate in our repository in order to be allowed to save changes to any files within the repository.  \n",
    "If you haven't sent me your credentials before this class, please follow along on your neighbour's screen and come see me after class."
   ]
  },
  {
   "cell_type": "markdown",
   "metadata": {
    "slideshow": {
     "slide_type": "fragment"
    }
   },
   "source": [
    "* In the menu bar in the folder tab, please click on the \"+\" (*new launcher*).  \n",
    "  \n",
    "* Click on other --> Terminal\n"
   ]
  },
  {
   "cell_type": "markdown",
   "metadata": {
    "slideshow": {
     "slide_type": "slide"
    }
   },
   "source": [
    "<a name=\"terminal\"></a>\n",
    "### A minimal introduction to the Unix terminal"
   ]
  },
  {
   "cell_type": "markdown",
   "metadata": {
    "slideshow": {
     "slide_type": "slide"
    }
   },
   "source": [
    "You are now accessing a Unix terminal session and working from within your home directory.  \n",
    "  \n",
    "Using the Unix terminal might seem daunting at first, but it is a handy and fast way of navigating all the files on your Jupyterlab-Account. Plus, it isn't as hard as it looks."
   ]
  },
  {
   "cell_type": "markdown",
   "metadata": {
    "slideshow": {
     "slide_type": "slide"
    }
   },
   "source": [
    "A good first step in using the terminal is to check the directory you are currently working in. In unix terms, you want to request the *present working directory*: `pwd`  \n",
    "  \n",
    "The above command will output the directory you are currently working in, for example: `/home/sklassmann`  \n",
    "  \n",
    "A good second thing to do is to **list** the contents (files within) of your present working directory. This can be achieved by using `ls`. If you are currently working from your home directory, `ls`should output a number of files and directories that we have been dealing with for a couple of weeks now.  "
   ]
  },
  {
   "cell_type": "markdown",
   "metadata": {
    "slideshow": {
     "slide_type": "slide"
    }
   },
   "source": [
    "You can change your present working directory by using the *change directory* command `cd`, followed by either a subfolder within your present working directory, or a full path to a different folder.\n",
    "  \n",
    "You can easily try this out:  \n",
    "* From your home directory, you can switch to the folder /comp_music_wt19/: `cd comp_music_wt19`  \n",
    "* You can use `pwd` to see that you are now in a different folder.\n",
    "* Next, you can switch to the GitHub-Folder: `cd GitHub`\n",
    "* Inside this folder, you can now use `ls` to find the location this notebook is currently stored in.  \n",
    "  \n",
    "If you want to go back to your home directory, you could either use `cd ..` twice (go back to the last level of sub folders), or you could use the **absolute filepath** to your home folder: `cd /home/HUBUSERNAME`"
   ]
  },
  {
   "cell_type": "markdown",
   "metadata": {
    "slideshow": {
     "slide_type": "slide"
    }
   },
   "source": [
    "In sum, any operations you perform from the terminal will use the present working directory (pwd) as a base for orientation. You can access all files within your *present working directory* by means of their filename alone. If you want to access files in another folder, you will usually have to spell out the folders and subfolders to get there. This notebook can therefore be accessed as `IntroductionGitHub.ipynb`, if your pwd is the *comp_music_wt19*-Folder, or (for example) as `/home/USERNAME/comp_music_wt19/GitHub/IntroductionGitHub.ipynb` from anywhere else.  "
   ]
  },
  {
   "cell_type": "markdown",
   "metadata": {
    "slideshow": {
     "slide_type": "slide"
    }
   },
   "source": [
    "We can also easily create a folder and change our pwd to it:\n",
    "<br><br>\n",
    "`mkdir foldername`<br>\n",
    "`cd foldername`"
   ]
  },
  {
   "cell_type": "markdown",
   "metadata": {
    "slideshow": {
     "slide_type": "slide"
    }
   },
   "source": [
    "At any time, you can return to a lower-level sub-folder by typing: `cd ..`  \n",
    "  \n",
    "You might also want to be able to erase a file from a given folder. This can be done by using `rm FILENAME` (rm = remove). This command also works on empty folders.  \n",
    "\n",
    "If you absolutely have to delete a folder that is not yet empty, this can be achieved by using `rm -rf /path/to/foldername`."
   ]
  },
  {
   "cell_type": "markdown",
   "metadata": {
    "slideshow": {
     "slide_type": "slide"
    }
   },
   "source": [
    "## Before we proceed:\n",
    "Please rename the folder you downloaded to your home directory last week!  \n",
    "(right click on the folder in the folder tab of Jupyterlab --> rename)  \n",
    "  \n",
    "This is just a step to backup any work you have done in your folder last week. It is only neccessary today."
   ]
  },
  {
   "cell_type": "markdown",
   "metadata": {
    "slideshow": {
     "slide_type": "slide"
    }
   },
   "source": [
    "For this course, we are using a private repository by the name of *comp_music_wt19*. A private repository is only visible to GitHub-users who have been invited to collaborate in the given repository.  \n",
    "Therefore, I have sent you all an invitation to participate in our private repository. \n",
    "  \n",
    "Please clone our repository, which will download the current state of our repository. You will be asked for your GitHub user credentials (username/password) before being allowed to clone the contents of our folder. <br>\n",
    "`git clone https://github.com/sebastianklassmann/comp_music_wt19`  \n",
    "  \n",
    "After today's session, we will be using our newly established GitHub workflow in order to hand in assignments and share files. (In fact, that's what has been happening behind the scenes anyway, as all our download links pointed towards a public GitHub repository...)"
   ]
  },
  {
   "cell_type": "markdown",
   "metadata": {
    "slideshow": {
     "slide_type": "slide"
    }
   },
   "source": [
    "cd (change directory) into the repository’s directory: <br>\n",
    "`cd /path/to/comp_music_wt19/`  \n",
    "or from your home directory:\n",
    "`cd comp_music_wt19` "
   ]
  },
  {
   "cell_type": "markdown",
   "metadata": {
    "slideshow": {
     "slide_type": "slide"
    }
   },
   "source": [
    "Please make sure, that your present working directory now is the repository folder, i.e. `/home/USERNAME/comp_music_wt19/`.  \n",
    "\n",
    "To let GitHub know who you are, you have to set up your user details for GIT . Please use the user name /email you set up with GitHub instead of “YOURUSERNAME” and “YOUREMAIL” below.<br>\n",
    "\n",
    "`git config --local user.name \"YOURUSERNAME\"`<br>\n",
    "`git config --local user.email \"YOUREMAIL\"`<br>\n",
    "\n",
    "For windows users: your \"@\" symbol can be entered in terminal by hitting \"Alt-Shift-2\" (English keyboard)\n"
   ]
  },
  {
   "cell_type": "markdown",
   "metadata": {
    "slideshow": {
     "slide_type": "slide"
    }
   },
   "source": [
    "<a name=\"github1\"></a>\n",
    "### GitHub exercise: creating folders/files, staging, committing and pushing:  \n",
    "  \n",
    "  \n",
    "In order to familiarize you all with the GitHub interactions, we will now be doing a simple exercise. I have just now sent you all a little exercise that takes the form of a GitHub classroom assignment. Please find the invitation in your eMails. I will give you some more details about GitHub classroom at the end of this presentation.\n",
    "  \n",
    "**Please note:** you can find all steps that you will be needing in this notebook. This exercise will be handled in the same way that you will handle your official assignments. It will not count towards the four assignments that you need to submit."
   ]
  },
  {
   "cell_type": "markdown",
   "metadata": {
    "slideshow": {
     "slide_type": "slide"
    }
   },
   "source": [
    "![](images/accept.png)  \n",
    "After accepting the assignment, you will be asked to identify yourselve by clicking on your name. You will also be asked to link your real nime to your GitHub account. You will only need to do this once. Afterwards, you will be presented with a link to your repository **for this single assignment**. you will need to redo these steps for every assignment you submit, but it doesn't take very long. For assignments down the road, you will not have to link your GitHub account again."
   ]
  },
  {
   "cell_type": "markdown",
   "metadata": {
    "slideshow": {
     "slide_type": "slide"
    }
   },
   "source": [
    "![](images/assignmenturl.png)  \n",
    "Please copy the link to your assignment which is provided after you have accepted the assignment."
   ]
  },
  {
   "cell_type": "markdown",
   "metadata": {
    "slideshow": {
     "slide_type": "slide"
    }
   },
   "source": [
    "First of all, you will need to clone the repository for our assignment. Open up a terminal inside your Jupyterlab interface.  \n",
    "  \n",
    "Please navigate to your personal home directory (/home/USERNAME/) and clone your repository: `git clone https://github.com/link/to/repo` (if you have copied the url above, you can now just paste it inside the terminal).  \n",
    "  \n",
    "By the way, the shortcut to paste text to a terminal session on a Windows machine is CTRL+SHIFT+V!"
   ]
  },
  {
   "cell_type": "markdown",
   "metadata": {
    "slideshow": {
     "slide_type": "slide"
    }
   },
   "source": [
    "Please navigate to the folder you have just cloned using `cd foldername`.  \n",
    "From inside the folder, please identify yourself:  \n",
    "`git config --local user.name \"your name\"`   \n",
    "`git config --local user.email \"your email\"`"
   ]
  },
  {
   "cell_type": "markdown",
   "metadata": {
    "slideshow": {
     "slide_type": "slide"
    }
   },
   "source": [
    "Within the repository folder for your first github exercise, please create (`mkdir`) a new folder (firstname_lastname).\n",
    "Within the folder (navigate into it!), please create a new text file:<br>\n",
    "`nano YOURUSERNAME.txt`\n",
    "<br><br>\n",
    "This will open up the *nano* text editor. Once in this editor, you can type any text you like. If you want to  \n",
    "exit the editor, you have to hit **CTRL+X**. Nano will then ask you whether you want to save your changes. At this time,  \n",
    "you want to type *yes* and confirm by hitting **Enter**."
   ]
  },
  {
   "cell_type": "markdown",
   "metadata": {
    "slideshow": {
     "slide_type": "slide"
    }
   },
   "source": [
    "You can now type `git status` in the terminal, which will tell you that there is a new folder, as well as your text file called “YOURUSERNAME”.txt that has not yet been committed to GitHub."
   ]
  },
  {
   "cell_type": "markdown",
   "metadata": {
    "slideshow": {
     "slide_type": "fragment"
    }
   },
   "source": [
    "Add the newly created file to the list of things to be committed to GitHub (aka. “*Stage*” the file):<br>\n",
    "`git add \"YOURUSERNAME\".txt` Alternatively, you can add all untracked files using `git add -A`."
   ]
  },
  {
   "cell_type": "markdown",
   "metadata": {
    "slideshow": {
     "slide_type": "fragment"
    }
   },
   "source": [
    "Inform GitHub that you wish to commit the text file and make a comment about your commit:<br>\n",
    "`git commit -m \"added a test txt file to repo to test things\"`\n",
    "<br>\n",
    "As you can see, you can add a comment in here that tells other collaborators what the commited change actually implies."
   ]
  },
  {
   "cell_type": "markdown",
   "metadata": {
    "slideshow": {
     "slide_type": "fragment"
    }
   },
   "source": [
    "**Your local copy of the repository will now ideally be exactly one commit (change) ahead of the online repository. In order to align things, you will need to “push” to the online repository!**"
   ]
  },
  {
   "cell_type": "markdown",
   "metadata": {
    "slideshow": {
     "slide_type": "slide"
    }
   },
   "source": [
    "As we cloned the repository before, you can now easily push your commit to the repository by typing: <br>\n",
    "`git push`<br><br>\n",
    "After checking your **GITHUB**-credentials (username/password), this command will now upload your new folder and text file to the remote GitHub repository.  "
   ]
  },
  {
   "cell_type": "markdown",
   "metadata": {
    "slideshow": {
     "slide_type": "fragment"
    }
   },
   "source": [
    "At any time, `git status` will return to you if there are any changes to the master repository that have not yet been synchronised with your local repository. This will be the case as soon as anybody has pushed new files to the repository. If you want to update your local repository to the current state of what is in the online repository, you can always use:<br>\n",
    "`git pull`"
   ]
  },
  {
   "cell_type": "markdown",
   "metadata": {
    "slideshow": {
     "slide_type": "slide"
    }
   },
   "source": [
    "There might some conflicts when a group of people all pushes changes to GitHub at once. This is, why we can use branching (see next section). When using GitHub classroom, you will all be working in your own private repositories for every assignment, so there will be no conflicts. we will only use our shared repo for course materials and potential group work sessions down the line. **It is a good habit to always check for new commits before trying to push anything yourself!** `git status` $\\rightarrow$ `git pull`\n"
   ]
  },
  {
   "cell_type": "markdown",
   "metadata": {
    "slideshow": {
     "slide_type": "slide"
    }
   },
   "source": [
    "**Recapitulation:**  \n",
    "  \n",
    "If you want to make your work seen on GitHub, there's a few steps:  \n",
    "`git status`$\\rightarrow$ `git pull`$\\rightarrow$ `git add -A`$\\rightarrow$ `git commit -m \"MESSAGE\"`$\\rightarrow$ `git push`\n",
    "  \n",
    "It sounds a lot more complicated than it actually is."
   ]
  },
  {
   "cell_type": "markdown",
   "metadata": {
    "slideshow": {
     "slide_type": "slide"
    }
   },
   "source": [
    "**Please note:** \n",
    "\n",
    "This is the “easy way out”, as it will directly write your changes to the master branch (i.e. the main repository). This is usually not ideal for collaborating within GitHub. A cleaner way to do things is to use branches that can be merged by the owner of the repository. Branching will not be neccessary for your personal assignments. You can still try out the exercises below from inside your assignment repository, though."
   ]
  },
  {
   "cell_type": "markdown",
   "metadata": {
    "slideshow": {
     "slide_type": "slide"
    }
   },
   "source": [
    "A branch in GitHub can be defined as a flow of ideas, edits and developments that branches out from the main structure of the tree trunk. Obviously, there can be further branching down the branch…"
   ]
  },
  {
   "cell_type": "markdown",
   "metadata": {
    "slideshow": {
     "slide_type": "fragment"
    }
   },
   "source": [
    "In GitHub, the tree trunk is referred to as the **master branch**. If you have followed all our steps so far, you have successfully created a file within your local repository, staged it for commitment and committed it to the remote (or, to use GIT terminology: the *upstream*) server. The last step was directly applied to the master branch."
   ]
  },
  {
   "cell_type": "markdown",
   "metadata": {
    "slideshow": {
     "slide_type": "fragment"
    }
   },
   "source": [
    "<a name=\"branching\"></a>\n",
    "#### Branching in GitHub:  \n",
    "    \n",
    "It is not hard to imagine cases, in which a direct commitment to the master branch by all collaborators at any time might not be desirable. Thus, it is always a good idea to have separate collaborators working in their own separate branches that can then later be merged back into the main branch. This works as follows:"
   ]
  },
  {
   "cell_type": "markdown",
   "metadata": {
    "slideshow": {
     "slide_type": "slide"
    }
   },
   "source": [
    "![](images/branching.png)"
   ]
  },
  {
   "cell_type": "markdown",
   "metadata": {
    "slideshow": {
     "slide_type": "slide"
    }
   },
   "source": [
    "**Create branch:** <br>\n",
    "It is not at all hard to switch to using branches over what we have done so far. All you need is basically two commands:  \n",
    "  \n",
    "`git checkout -b BRANCHNAME`<br>\n",
    "`git checkout BRANCHNAME`  \n",
    "  \n",
    "The first command will create a new branch for you to work in, whilst the second command will switch to the newly created branch."
   ]
  },
  {
   "cell_type": "markdown",
   "metadata": {
    "slideshow": {
     "slide_type": "fragment"
    }
   },
   "source": [
    "Now you can perform any changes and later push them to the branch you are working in.\n",
    "\n",
    "Compared to the above workflow, users can now work on individual branches at the same time and will be unaffected by things that happen within other branches, unless branches are **merged**.\n",
    "\n",
    "If there are no conflicting changes within two branches, they can be automatically merged otherwise, you will need to compare both versions of conflicting files and make a decision."
   ]
  },
  {
   "cell_type": "markdown",
   "metadata": {
    "slideshow": {
     "slide_type": "fragment"
    }
   },
   "source": [
    "**A GOOD RULE OF THUMB**: You basically **never** want to be working in the master branch. It is advisable to always keep the master branch clean, so we can branch out from it. Only when you have reached a plateau within your work and with good communication should you change the master branch."
   ]
  },
  {
   "cell_type": "markdown",
   "metadata": {
    "slideshow": {
     "slide_type": "slide"
    }
   },
   "source": [
    "Once the master branch is changed, it is necessary to branch the master branch into all branches that are currently still being worked on.\n",
    "\n",
    "In short, these are the commands you will need to create a branch, switch to it, add a file to the repository, stage it, commit it and push it to the repo. If you want to try them out, feel free to do so in your GitHub Classroom repository:"
   ]
  },
  {
   "cell_type": "markdown",
   "metadata": {
    "slideshow": {
     "slide_type": "slide"
    }
   },
   "source": [
    "```terminal:\n",
    "git checkout -b \"branchname\"     \n",
    "# create a branch\n",
    "\n",
    "git checkout \"branchname\"\t\t \n",
    "# switch to branch\n",
    "\n",
    "nano \"file.txt\"\t\t\t\t\t \n",
    "# create new file, ctrl+x to exit, state \"yes\" and hit Enter.\n",
    "\n",
    "git add file.txt\t\t\t\t   \n",
    "# stage the new file git add file.txt\n",
    "\n",
    "git commit -m \"comment\"\t\t     \n",
    "# commit all staged files, comment\n",
    "\n",
    "git push\t\t\t\t\t\t \n",
    "# upload all commits to branch\n",
    "```"
   ]
  },
  {
   "cell_type": "markdown",
   "metadata": {
    "slideshow": {
     "slide_type": "slide"
    }
   },
   "source": [
    "After committing changes to your branch, these can be reviewed and merged into the master branch."
   ]
  },
  {
   "cell_type": "markdown",
   "metadata": {
    "slideshow": {
     "slide_type": "slide"
    }
   },
   "source": [
    "### Exercise: Branching  \n",
    "  \n",
    "Now, you have acquired all the neccessary skills to create a branch within a GitHub repository for you to work in and upload your work to GitHub from your JupyterLab-account.  \n",
    "  \n",
    "To review and repeat everything, here's a little assignment for you to do:  \n",
    "\n",
    "* Please make sure that you are working inside your cloned assignment repository.\n",
    "* Please create a branch that can be identified as your working branch for the repo.\n",
    "* Switch to your newly created branch.\n",
    "* Within your branch, create a folder /USERNAME for new work. (insert your username there!)\n",
    "* Within the folder, create a text file containing a simple line of text.\n",
    "* Save everything and stage, commit and push your changes."
   ]
  },
  {
   "cell_type": "markdown",
   "metadata": {
    "slideshow": {
     "slide_type": "slide"
    }
   },
   "source": [
    "There *might* be one more error message telling you that your current branch is not yet hosted on the server (upstream).  \n",
    "  \n",
    "If this arises, you might need to use:  \n",
    "`git push --set upstream origin BRANCHNAME` \n",
    "  \n",
    "you will be asked for your credentials. This behaviour will only occur if you have created a new branch that the server  \n",
    "does not yet know about."
   ]
  },
  {
   "cell_type": "markdown",
   "metadata": {
    "slideshow": {
     "slide_type": "slide"
    }
   },
   "source": [
    "<a name=\"pull\"></a>\n",
    "#### GitHub Pull Requests <br>\n",
    "\n",
    "In a default setting, every user of our hub architecture is able to commit to the master branch bei themselves. There is, however, a better way of monitoring commits in case there is a project leader or person designated for supervising merges. Whenever a collaborator wishes to merge a branch they have been working on to the master branch of the repository, they can open up a pull request (i.e. a request for permission to merge their branch into the master branch.)."
   ]
  },
  {
   "cell_type": "markdown",
   "metadata": {
    "slideshow": {
     "slide_type": "fragment"
    }
   },
   "source": [
    "Their pull request can include a comment on what has been changed to give context to the requested changes to the master (or other ;-)) branch.\n",
    "\n",
    "If everybody sticks to their own branches in developing the repository and files within it, pull requests are easily handled from within the browser interface of GitHub. In this case, the browser interface offers nice comparison views to compare changes between conflicting document versions during a pending merge.  \n",
    "  \n",
    "**We will not be using Pull Requests for now. If you want to try them out, you will have to work from the comp_music_wt19 repository. In it, you can create a branch that is identifiable. In that branch, please create a folder named after you. In that folder, please create a new text file or Jupyter Notebook. After these steps, you can proceed to trying out pull requests. We will go over them at a later point in this semester.**"
   ]
  },
  {
   "cell_type": "markdown",
   "metadata": {
    "slideshow": {
     "slide_type": "slide"
    }
   },
   "source": [
    "First, you will want to open a new browser tab and navigate to: https://github.com/ (or click on this link).  \n",
    "  \n",
    "Please log in to your GitHub account and find our repository \"comp_music_wt19\"."
   ]
  },
  {
   "cell_type": "markdown",
   "metadata": {
    "slideshow": {
     "slide_type": "slide"
    }
   },
   "source": [
    "In the top menu bar, please click on \"Pull requests\" and then click on \"New Pull Request\". \n",
    "\n",
    "![](images/Pull.png)"
   ]
  },
  {
   "cell_type": "markdown",
   "metadata": {
    "slideshow": {
     "slide_type": "slide"
    }
   },
   "source": [
    "You can enter a message for your collaborators or the admin to let them know which changes you want to have implemented in our working directory. \n",
    "\n",
    "![](images/PullRequest.png)\n",
    "  \n",
    "Press \"Create Pull Request\"."
   ]
  },
  {
   "cell_type": "markdown",
   "metadata": {
    "slideshow": {
     "slide_type": "slide"
    }
   },
   "source": [
    "This is all for now. If you have successfully created a pull request on GitHub, I will now be able to pull your branches into my working directory one by one. This will be our workflow to share files across all users. You can add files, modify things at any given time. However, I will enable a restriction right after this course that does not allow you to directly push to our master branch anymore.  \n",
    "  \n",
    "There's a little homework assignment that is similar from our branching exercise above:  \n",
    "  \n",
    "* Please create a branch that can be identified as your working branch for the repo. (might be redundant if you already created a branch)\n",
    "* Switch to your newly created branch.\n",
    "* Within your branch, create a folder /USERNAME for new work. (insert your username there!)\n",
    "* Within the folder, create a text file containing a simple line of text.\n",
    "* Save everything and stage, commit and push your changes."
   ]
  },
  {
   "cell_type": "markdown",
   "metadata": {
    "slideshow": {
     "slide_type": "slide"
    }
   },
   "source": [
    "### A word of advice: \n",
    "  \n",
    "If you work with GitHub and Jupyter Notebooks, your life **will** be easier, if you only copy or move a file to the repository folder, once it is ready for review or sharing with the other course members. Git and GitHub will track any changes in files that are within the repository. However, the Jupyter Notebook file format is not plain text, so seeing differences in file versions in the *nano editor* can be challenging. We haven't discussed *merges* and the version tracking and comparison screens in detail yet.   \n",
    "  \n",
    "We can, however, do this at a later point in this course, if you are interested."
   ]
  },
  {
   "cell_type": "markdown",
   "metadata": {
    "slideshow": {
     "slide_type": "slide"
    }
   },
   "source": [
    "<a name=\"class\"></a>\n",
    "## GitHub classroom"
   ]
  },
  {
   "cell_type": "markdown",
   "metadata": {
    "slideshow": {
     "slide_type": "slide"
    }
   },
   "source": [
    "You now know everything you need to know to operate GitHub classroom. GitHub classroom will be used to deal out repositories to you over the course of our semester.  \n",
    "  \n",
    "When you accept an assignment via GitHub classroom (you'll be invited via eMail), GitHub classroom will create a private repository for you to work in. You will have full push access and can use it to work on your assignment and hand it in. When the deadline ends, your last commit will be counted as your submission.  "
   ]
  },
  {
   "cell_type": "markdown",
   "metadata": {
    "slideshow": {
     "slide_type": "slide"
    }
   },
   "source": [
    "Just to recapitulate: To work on an assignment, you will need to some steps in terminal:\n",
    "* navigate to your own local home folder (/home/USERNAME/)\n",
    "* clone into the repository (check your browser for the full url): ``git clone https://github.com/path/to/assignment``  * switch to the cloned directory: ``cd /path/to/directory``\n",
    "* identify yourself to GitHub: ``git config --local user.name \"Your Name\"``\n",
    "* specify your email adress: ``git config --local user.email \"Your eMail\"`` \n",
    "* start working!\n",
    "* remember: (`git status`$\\rightarrow$ `git pull`$\\rightarrow$) `git add -A`$\\rightarrow$ `git commit -m \"MESSAGE\"`$\\rightarrow$ `git push`\n",
    "  \n"
   ]
  },
  {
   "cell_type": "markdown",
   "metadata": {
    "slideshow": {
     "slide_type": "slide"
    }
   },
   "source": [
    "After finishing work, remember to stage, commit and push your work! All the commands can be found above."
   ]
  },
  {
   "cell_type": "markdown",
   "metadata": {
    "slideshow": {
     "slide_type": "slide"
    }
   },
   "source": [
    "GitHub might take a little to get used to.  \n",
    "Therefore, you can come to my office hour to solve any GitHub related problems with handing in an assignment.  \n",
    "I will set up the deadlines accordingly. For each assignments, you will have a two week window starting after the respective session and ending after my office hour 14 days later.  \n",
    "  \n",
    "**You will not need branching or pull requests for handing in assignments, these are just helpful skills in general.**"
   ]
  },
  {
   "cell_type": "markdown",
   "metadata": {
    "slideshow": {
     "slide_type": "slide"
    }
   },
   "source": [
    "<a name=\"bibli\"></a>\n",
    "### Some Additional Literature:\n",
    "  \n",
    "---  \n",
    "  \n",
    "**Rossant, Cyrille.** *IPython Interactive Computing and Visualization Cookbook: Over 100 hands-on recipes to sharpen your skills in high-performance numerical computing and data science in the Jupyter Notebook.* Packt Publishing Ltd, 2018."
   ]
  }
 ],
 "metadata": {
  "celltoolbar": "Slideshow",
  "kernelspec": {
   "display_name": "py3pack",
   "language": "python",
   "name": "py3pack"
  },
  "language_info": {
   "codemirror_mode": {
    "name": "ipython",
    "version": 3
   },
   "file_extension": ".py",
   "mimetype": "text/x-python",
   "name": "python",
   "nbconvert_exporter": "python",
   "pygments_lexer": "ipython3",
   "version": "3.5.2"
  }
 },
 "nbformat": 4,
 "nbformat_minor": 4
}
