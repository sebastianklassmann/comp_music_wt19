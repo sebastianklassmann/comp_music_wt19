{
 "cells": [
  {
   "cell_type": "markdown",
   "metadata": {},
   "source": [
    "# GitHub Cheatsheet"
   ]
  },
  {
   "cell_type": "markdown",
   "metadata": {},
   "source": [
    "![](images/GHLogo.jpg)  \n",
    "author: &nbsp;&nbsp; sklassm1@uni-koeln.de  \n",
    "date: &nbsp;&nbsp;&nbsp;&nbsp;&nbsp; 19.04.2019  \n",
    "version:&nbsp;&nbsp; 1.2"
   ]
  },
  {
   "cell_type": "markdown",
   "metadata": {},
   "source": [
    "**This cheatsheet is an overview of the core concepts and applications used in our GitHub workflow.**"
   ]
  },
  {
   "cell_type": "markdown",
   "metadata": {},
   "source": [
    "## Overview of the data structure resulting from integrating GitHub with Jupyterhub\n",
    "![data structure with GitHub and Jupyterhub](images/GHArchitecture.jpg)"
   ]
  },
  {
   "cell_type": "markdown",
   "metadata": {},
   "source": [
    "As can be seen from the graphic above, the graphical user interface and unix shell gives users access to their local files that are stored on a virtual machine hosted by the Rechenzentrum. Green elements are files and folders that are stored in your workspaces hosted on the Virtual machine. Blue elements are hosted online at GitHub."
   ]
  },
  {
   "cell_type": "markdown",
   "metadata": {},
   "source": [
    "There's a few basic operations performed from the Unix terminal that allow for interfacing between *local* files on the Virtual machine and files that remain online on GitHub's server:  \n",
    "* clone (`git clone https://github.com/path/to/repo`): download a copy of a repository to your personal workspace and initialize version tracking for the downloaddedd folder\n",
    "* status (`git status` from inside a tracked folder): check if your local copy of a repository is up-to-date compared to it's online instance\n",
    "* pull (`git pull` from inside a tracked folder): Update your local copy of a repository with any changes made to the folder hosted online\n",
    "* stage (`git add -A` from inside a tracked folder): inform GitHub that you want to include all changed files in the next upload / push\n",
    "* commit (`git commit -m \"MESSAGE\"` from inside a tracked folder: inform GitHub that you are ready to commit your new work to the online version of a repository, including a commit message to be specified in the command\n",
    "* push (`git push` from inside a tracked folder): upload your commited work to GitHub"
   ]
  },
  {
   "cell_type": "markdown",
   "metadata": {},
   "source": [
    "As soon, as GitHub Classroom is used, assignments accepted by you will create a new repository for you to work in and that only you have access to. The workflow looks as follows:"
   ]
  },
  {
   "cell_type": "markdown",
   "metadata": {},
   "source": [
    "![GitHub Classroom workflow](images/CRWF.jpg)"
   ]
  },
  {
   "cell_type": "markdown",
   "metadata": {},
   "source": [
    "As you can see, an assignment accepted in GitHub classroom works just as a regular GitHub workflow. The following steps will be neccessary for you after accepting an assignment in order to hand in your work:"
   ]
  },
  {
   "cell_type": "markdown",
   "metadata": {},
   "source": [
    "* clone the repository to your workspace on the Virtual machine (`git clone`) - the link to the repository will be displayed to you after accepting the assignment. You have to select, copy (CTRL / Commandd + C) it from the browser and paste it to the terminal console (COMMAND + V or CTRL + V or SHIFT + CTRL + V, depending on the machine you are using)\n",
    "* inside your cloned folder, finish the assignment, for example as a Jupyter Notebook\n",
    "* from inside the cloned folder, using the terminal:  \n",
    "`git add -A`  $\\rightarrow$   `git commit -m \"MESSAGE\"`  $\\rightarrow$   `git push`"
   ]
  },
  {
   "cell_type": "markdown",
   "metadata": {},
   "source": [
    "After pushing to the online repository, GitHub Classroom will count your work as a submission. The last commit/push you make before the deadline ends will be the final version of your assignment that your course administrator gets to see."
   ]
  },
  {
   "cell_type": "markdown",
   "metadata": {},
   "source": [
    "You can still work on and make changes to your assignment repo after the deadline has passed. However, these will not be counted as a submission anymore. Therefore, please make sure that you watch the deadline and upload the correct version of your work!"
   ]
  }
 ],
 "metadata": {
  "kernelspec": {
   "display_name": "Python 3",
   "language": "python",
   "name": "python3"
  },
  "language_info": {
   "codemirror_mode": {
    "name": "ipython",
    "version": 3
   },
   "file_extension": ".py",
   "mimetype": "text/x-python",
   "name": "python",
   "nbconvert_exporter": "python",
   "pygments_lexer": "ipython3",
   "version": "3.5.2"
  }
 },
 "nbformat": 4,
 "nbformat_minor": 4
}
