{
 "cells": [
  {
   "cell_type": "markdown",
   "metadata": {},
   "source": [
    "# Functions"
   ]
  },
  {
   "cell_type": "code",
   "execution_count": 34,
   "metadata": {},
   "outputs": [
    {
     "name": "stdout",
     "output_type": "stream",
     "text": [
      "Hello World!\n",
      "Hello World!\n",
      "Hello World!\n",
      "Hello World!\n"
     ]
    }
   ],
   "source": [
    "# function definition\n",
    "def helloWorld(number):        # head\n",
    "    for i in range(number):    # body (indent!) \n",
    "        print('Hello World!')  # body\n",
    "    \n",
    "# function call    \n",
    "helloWorld(4)"
   ]
  },
  {
   "cell_type": "markdown",
   "metadata": {},
   "source": [
    "Lets look at the first line of the above code: \\\n",
    "def helloWorld(number):\n",
    "\n",
    "The **def** statement means that we want to 'define' a new function.\n",
    "\n",
    "**helloWorld** is the name for our function under which we can call it later on. It can be any name, but basically the same guidelines as for variable names can be applied. For example built-in funtion names should be avoided.\n",
    "\n",
    "The expression in the **brackets** is the argument that is passed to the function. In our case it is number. Inside the function it works as a (local) variable, which contains an object that gets passed into the function when you call it. You can use it in the functions body, but not outside of it. \\\n",
    "Also a function can have several input arguments (or none at all) of arbitrary types, it might even be another function."
   ]
  },
  {
   "cell_type": "markdown",
   "metadata": {},
   "source": [
    "Example (and 'scope' of a variable):"
   ]
  },
  {
   "cell_type": "code",
   "execution_count": 36,
   "metadata": {},
   "outputs": [
    {
     "name": "stdout",
     "output_type": "stream",
     "text": [
      "outer variable From inside:  outside\n",
      "inner variable from inside:  inside\n",
      "11\n",
      "\n"
     ]
    }
   ],
   "source": [
    "var_outside = 'outside'\n",
    "\n",
    "def add_print(a,b):\n",
    "    var_inside = 'inside'\n",
    "    print('outer variable From inside: ', var_outside)\n",
    "    print('inner variable from inside: ', var_inside)\n",
    "    print(a+b)\n",
    "    \n",
    "number1 = 5\n",
    "number2 = 6\n",
    "\n",
    "myFunction(number1,number2)\n",
    "print()"
   ]
  },
  {
   "cell_type": "code",
   "execution_count": 28,
   "metadata": {},
   "outputs": [
    {
     "name": "stdout",
     "output_type": "stream",
     "text": [
      "5\n",
      "outside\n"
     ]
    }
   ],
   "source": [
    "print(number1)\n",
    "print(var_outside)"
   ]
  },
  {
   "cell_type": "code",
   "execution_count": 29,
   "metadata": {},
   "outputs": [
    {
     "ename": "NameError",
     "evalue": "name 'a' is not defined",
     "output_type": "error",
     "traceback": [
      "\u001b[0;31m---------------------------------------------------------------------------\u001b[0m",
      "\u001b[0;31mNameError\u001b[0m                                 Traceback (most recent call last)",
      "\u001b[0;32m<ipython-input-29-03546edc4388>\u001b[0m in \u001b[0;36m<module>\u001b[0;34m\u001b[0m\n\u001b[1;32m      1\u001b[0m \u001b[0;31m# a (and b) doesn't exist outside of the function\u001b[0m\u001b[0;34m\u001b[0m\u001b[0;34m\u001b[0m\u001b[0;34m\u001b[0m\u001b[0m\n\u001b[0;32m----> 2\u001b[0;31m \u001b[0mprint\u001b[0m\u001b[0;34m(\u001b[0m\u001b[0ma\u001b[0m\u001b[0;34m)\u001b[0m\u001b[0;34m\u001b[0m\u001b[0;34m\u001b[0m\u001b[0m\n\u001b[0m",
      "\u001b[0;31mNameError\u001b[0m: name 'a' is not defined"
     ]
    }
   ],
   "source": [
    "# a (and b) doesn't exist outside of the function\n",
    "print(a)"
   ]
  },
  {
   "cell_type": "code",
   "execution_count": 30,
   "metadata": {},
   "outputs": [
    {
     "ename": "NameError",
     "evalue": "name 'var_inside' is not defined",
     "output_type": "error",
     "traceback": [
      "\u001b[0;31m---------------------------------------------------------------------------\u001b[0m",
      "\u001b[0;31mNameError\u001b[0m                                 Traceback (most recent call last)",
      "\u001b[0;32m<ipython-input-30-abc79bce9287>\u001b[0m in \u001b[0;36m<module>\u001b[0;34m\u001b[0m\n\u001b[0;32m----> 1\u001b[0;31m \u001b[0mprint\u001b[0m\u001b[0;34m(\u001b[0m\u001b[0mvar_inside\u001b[0m\u001b[0;34m)\u001b[0m\u001b[0;34m\u001b[0m\u001b[0;34m\u001b[0m\u001b[0m\n\u001b[0m",
      "\u001b[0;31mNameError\u001b[0m: name 'var_inside' is not defined"
     ]
    }
   ],
   "source": [
    "print(var_inside)"
   ]
  },
  {
   "cell_type": "markdown",
   "metadata": {},
   "source": [
    "## return"
   ]
  },
  {
   "cell_type": "markdown",
   "metadata": {},
   "source": [
    "Now our last observation could lead us to further question: \\\n",
    "What if we want to use the result of the functions processing outside of the function and not just print it? \\\n",
    "Since we can give the function some input, we can also tell it to **return** some output to us:"
   ]
  },
  {
   "cell_type": "code",
   "execution_count": 15,
   "metadata": {},
   "outputs": [],
   "source": [
    "# Several examples of functions\n",
    "def add1(a,b):\n",
    "    c = a+b\n",
    "    return c\n",
    "\n",
    "def add2(a,b):\n",
    "    return a+b\n",
    "\n",
    "def add3(a,b):\n",
    "    print(a+b)\n",
    "    return a+b"
   ]
  },
  {
   "cell_type": "code",
   "execution_count": 16,
   "metadata": {},
   "outputs": [
    {
     "name": "stdout",
     "output_type": "stream",
     "text": [
      "11\n",
      "\n",
      "11\n"
     ]
    }
   ],
   "source": [
    "# Several calls of the above functions\n",
    "number1 = 5\n",
    "number2 = 6\n",
    "\n",
    "number3 = add1(number1,number2)\n",
    "print(number3)\n",
    "print()\n",
    "print(add1(number1,number2))"
   ]
  },
  {
   "cell_type": "code",
   "execution_count": 17,
   "metadata": {},
   "outputs": [
    {
     "name": "stdout",
     "output_type": "stream",
     "text": [
      "11\n",
      "\n",
      "11\n"
     ]
    }
   ],
   "source": [
    "number1 = 5\n",
    "number2 = 6\n",
    "\n",
    "number3 = add2(number1,number2)\n",
    "print(number3)\n",
    "print()\n",
    "print(add2(number1,number2))"
   ]
  },
  {
   "cell_type": "code",
   "execution_count": 18,
   "metadata": {},
   "outputs": [
    {
     "name": "stdout",
     "output_type": "stream",
     "text": [
      "11\n",
      "11\n",
      "\n",
      "11\n",
      "11\n"
     ]
    }
   ],
   "source": [
    "number1 = 5\n",
    "number2 = 6\n",
    "\n",
    "number3 = add3(number1,number2)\n",
    "print(number3)\n",
    "print()\n",
    "print(add3(number1,number2))"
   ]
  },
  {
   "cell_type": "markdown",
   "metadata": {},
   "source": [
    "## Recursion"
   ]
  },
  {
   "cell_type": "markdown",
   "metadata": {},
   "source": [
    "Since, in a functions body, we are free to do whatever we want, we can also call other functions."
   ]
  },
  {
   "cell_type": "code",
   "execution_count": 19,
   "metadata": {},
   "outputs": [
    {
     "name": "stdout",
     "output_type": "stream",
     "text": [
      "1\n",
      "\n",
      "2\n"
     ]
    }
   ],
   "source": [
    "def increaseByOne(a):\n",
    "    e = add1(a,1)\n",
    "    return e\n",
    "\n",
    "number1 = 1\n",
    "\n",
    "print(number1)\n",
    "print()\n",
    "print(increaseByOne(number1))"
   ]
  },
  {
   "cell_type": "markdown",
   "metadata": {},
   "source": [
    "And we can also call the function itself and create a recursion."
   ]
  },
  {
   "cell_type": "code",
   "execution_count": 20,
   "metadata": {},
   "outputs": [
    {
     "name": "stdout",
     "output_type": "stream",
     "text": [
      "1\n",
      "2\n",
      "4\n",
      "8\n",
      "16\n",
      "32\n"
     ]
    }
   ],
   "source": [
    "# function for natural powers\n",
    "# n < 0 not allowed!\n",
    "def power_n(number,n):\n",
    "    if (n==0):\n",
    "        return 1\n",
    "    else:\n",
    "        return number*power_n(number,n-1)\n",
    "    \n",
    "number1 = 2\n",
    "\n",
    "print(power_n(number1,0)) # 2^0\n",
    "print(power_n(number1,1)) # 2^1\n",
    "print(power_n(number1,2)) # 2^2\n",
    "print(power_n(number1,3)) # 2^3\n",
    "print(power_n(number1,4)) # 2^4\n",
    "print(power_n(number1,5)) # 2^5"
   ]
  },
  {
   "cell_type": "markdown",
   "metadata": {},
   "source": [
    "Why use the if-branching? \\\n",
    "It is our termination criterion and VITAL to our function, because without it, the function wouldn't terminate and call itself forever:"
   ]
  },
  {
   "cell_type": "code",
   "execution_count": 37,
   "metadata": {},
   "outputs": [],
   "source": [
    "def infi():\n",
    "    return infi()"
   ]
  },
  {
   "cell_type": "code",
   "execution_count": 38,
   "metadata": {},
   "outputs": [
    {
     "ename": "RecursionError",
     "evalue": "maximum recursion depth exceeded",
     "output_type": "error",
     "traceback": [
      "\u001b[0;31m---------------------------------------------------------------------------\u001b[0m",
      "\u001b[0;31mRecursionError\u001b[0m                            Traceback (most recent call last)",
      "\u001b[0;32m<ipython-input-38-7ae3c2d3c94c>\u001b[0m in \u001b[0;36m<module>\u001b[0;34m\u001b[0m\n\u001b[0;32m----> 1\u001b[0;31m \u001b[0minfi\u001b[0m\u001b[0;34m(\u001b[0m\u001b[0;34m)\u001b[0m\u001b[0;34m\u001b[0m\u001b[0;34m\u001b[0m\u001b[0m\n\u001b[0m",
      "\u001b[0;32m<ipython-input-37-3c82d2529aac>\u001b[0m in \u001b[0;36minfi\u001b[0;34m()\u001b[0m\n\u001b[1;32m      1\u001b[0m \u001b[0;32mdef\u001b[0m \u001b[0minfi\u001b[0m\u001b[0;34m(\u001b[0m\u001b[0;34m)\u001b[0m\u001b[0;34m:\u001b[0m\u001b[0;34m\u001b[0m\u001b[0;34m\u001b[0m\u001b[0m\n\u001b[0;32m----> 2\u001b[0;31m     \u001b[0;32mreturn\u001b[0m \u001b[0minfi\u001b[0m\u001b[0;34m(\u001b[0m\u001b[0;34m)\u001b[0m\u001b[0;34m\u001b[0m\u001b[0;34m\u001b[0m\u001b[0m\n\u001b[0m",
      "... last 1 frames repeated, from the frame below ...\n",
      "\u001b[0;32m<ipython-input-37-3c82d2529aac>\u001b[0m in \u001b[0;36minfi\u001b[0;34m()\u001b[0m\n\u001b[1;32m      1\u001b[0m \u001b[0;32mdef\u001b[0m \u001b[0minfi\u001b[0m\u001b[0;34m(\u001b[0m\u001b[0;34m)\u001b[0m\u001b[0;34m:\u001b[0m\u001b[0;34m\u001b[0m\u001b[0;34m\u001b[0m\u001b[0m\n\u001b[0;32m----> 2\u001b[0;31m     \u001b[0;32mreturn\u001b[0m \u001b[0minfi\u001b[0m\u001b[0;34m(\u001b[0m\u001b[0;34m)\u001b[0m\u001b[0;34m\u001b[0m\u001b[0;34m\u001b[0m\u001b[0m\n\u001b[0m",
      "\u001b[0;31mRecursionError\u001b[0m: maximum recursion depth exceeded"
     ]
    }
   ],
   "source": [
    "infi()"
   ]
  },
  {
   "cell_type": "markdown",
   "metadata": {},
   "source": [
    "16min"
   ]
  },
  {
   "cell_type": "code",
   "execution_count": null,
   "metadata": {},
   "outputs": [],
   "source": []
  }
 ],
 "metadata": {
  "kernelspec": {
   "display_name": "Python 3",
   "language": "python",
   "name": "python3"
  },
  "language_info": {
   "codemirror_mode": {
    "name": "ipython",
    "version": 3
   },
   "file_extension": ".py",
   "mimetype": "text/x-python",
   "name": "python",
   "nbconvert_exporter": "python",
   "pygments_lexer": "ipython3",
   "version": "3.6.8"
  }
 },
 "nbformat": 4,
 "nbformat_minor": 2
}
