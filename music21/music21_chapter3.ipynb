{
 "cells": [
  {
   "cell_type": "markdown",
   "metadata": {},
   "source": [
    "## User’s Guide, Chapter 3: Pitches, Durations, and Notes again  \n",
    "[Original Source](https://web.mit.edu/music21/doc/usersGuide/usersGuide_03_pitches.html)  \n",
    "Notebook Conversion: Rojan Köse, Mathis Trutnau, Nils Dahmen  \n",
    "Review: Sebastian Klassmann  \n",
    "\n",
    "Now that you’ve made a couple of Note objects, it’s time to dig a little deeper into what makes a Note really a Note, namely, music21.pitch, and music21.duration objects."
   ]
  },
  {
   "cell_type": "code",
   "execution_count": 1,
   "metadata": {},
   "outputs": [],
   "source": [
    "from music21 import *\n",
    "environment.keys()\n",
    "environment.set('musicxmlPath', value='/usr/bin/musescore-xvfb')\n",
    "environment.set('musescoreDirectPNGPath', value='/usr/bin/musescore-xvfb')"
   ]
  },
  {
   "cell_type": "markdown",
   "metadata": {},
   "source": [
    "### The Pitch object\n",
    "Since we’ve already covered Note objects, Pitch objects will be a breeze. Just like how the Note object is found in the note module, the Pitch object is found in the pitch module.  \n",
    "Let’s create a Pitch. Like we did with Notes, just class the class with a note name, such as B with the optional symbols for sharp or flat, (# or - respectively).  \n",
    "You can put an octave number after the name (4 = low treble clef), but you don’t have to:"
   ]
  },
  {
   "cell_type": "code",
   "execution_count": 2,
   "metadata": {},
   "outputs": [],
   "source": [
    "p1 = pitch.Pitch('b-4')"
   ]
  },
  {
   "cell_type": "markdown",
   "metadata": {},
   "source": [
    "Here we’ll use a more abstract variable name, p1 for our first Pitch, just in case we change the pitch later (via .transpose() or something else).  \n",
    "Just like we saw with Notes there are a lot of attributes (a.k.a. properties; we’ll use the term interchangeably for a bit before we talk about the difference) and methods that describe and change pitches. The first three will be old hat from Note objects:"
   ]
  },
  {
   "cell_type": "code",
   "execution_count": 3,
   "metadata": {},
   "outputs": [
    {
     "data": {
      "text/plain": [
       "4"
      ]
     },
     "execution_count": 3,
     "metadata": {},
     "output_type": "execute_result"
    }
   ],
   "source": [
    "p1.octave"
   ]
  },
  {
   "cell_type": "code",
   "execution_count": 4,
   "metadata": {},
   "outputs": [
    {
     "data": {
      "text/plain": [
       "10"
      ]
     },
     "execution_count": 4,
     "metadata": {},
     "output_type": "execute_result"
    }
   ],
   "source": [
    "p1.pitchClass"
   ]
  },
  {
   "cell_type": "code",
   "execution_count": 5,
   "metadata": {},
   "outputs": [
    {
     "data": {
      "text/plain": [
       "'B-'"
      ]
     },
     "execution_count": 5,
     "metadata": {},
     "output_type": "execute_result"
    }
   ],
   "source": [
    "p1.name"
   ]
  },
  {
   "cell_type": "code",
   "execution_count": 6,
   "metadata": {},
   "outputs": [
    {
     "data": {
      "text/plain": [
       "-1.0"
      ]
     },
     "execution_count": 6,
     "metadata": {},
     "output_type": "execute_result"
    }
   ],
   "source": [
    "p1.accidental.alter"
   ]
  },
  {
   "cell_type": "markdown",
   "metadata": {},
   "source": [
    "Here are two more that you can use. The first is pretty self-explanatory. The second gives the value of the Pitch in the older, “MIDI” representation that is still in use today. It’s a number between 0 and 127 where middle C (C4) is 60 and C#4/Db4 is 61, B3 is 59, etc."
   ]
  },
  {
   "cell_type": "code",
   "execution_count": 7,
   "metadata": {},
   "outputs": [
    {
     "data": {
      "text/plain": [
       "'B-4'"
      ]
     },
     "execution_count": 7,
     "metadata": {},
     "output_type": "execute_result"
    }
   ],
   "source": [
    "p1.nameWithOctave"
   ]
  },
  {
   "cell_type": "code",
   "execution_count": 8,
   "metadata": {},
   "outputs": [
    {
     "data": {
      "text/plain": [
       "70"
      ]
     },
     "execution_count": 8,
     "metadata": {},
     "output_type": "execute_result"
    }
   ],
   "source": [
    "p1.midi"
   ]
  },
  {
   "cell_type": "markdown",
   "metadata": {},
   "source": [
    "Most of these attributes can be changed (they are “settable properties” in Python speak).  \n",
    "When an attribute is set, the Pitch object changes whatever is necessary to reflect the new value:"
   ]
  },
  {
   "cell_type": "code",
   "execution_count": 9,
   "metadata": {},
   "outputs": [
    {
     "data": {
      "text/plain": [
       "'D#3'"
      ]
     },
     "execution_count": 9,
     "metadata": {},
     "output_type": "execute_result"
    }
   ],
   "source": [
    "p1.name = 'd#'\n",
    "p1.octave = 3\n",
    "p1.nameWithOctave"
   ]
  },
  {
   "cell_type": "markdown",
   "metadata": {},
   "source": [
    "And our familiar .transpose() method also appears on Pitch as well:"
   ]
  },
  {
   "cell_type": "code",
   "execution_count": 10,
   "metadata": {},
   "outputs": [
    {
     "name": "stdout",
     "output_type": "stream",
     "text": [
      "D#3\n"
     ]
    },
    {
     "data": {
      "text/plain": [
       "<music21.pitch.Pitch C##4>"
      ]
     },
     "execution_count": 10,
     "metadata": {},
     "output_type": "execute_result"
    }
   ],
   "source": [
    "print(p1)\n",
    "p2 = p1.transpose('M7')\n",
    "p2"
   ]
  },
  {
   "cell_type": "markdown",
   "metadata": {},
   "source": [
    "Notice that at the command line, just printing the variable name gives you the representation <music21.pitch.Pitch C##4>. You can also get this by typing repr(p2).  \n",
    "So, there’s really nothing new about Pitch objects that you didn’t already know from learning about Notes. So why the two different objects? It turns out, they are so similar because actually every Note object has a Pitch object inside it (like the monster in Alien but more benign). Everything that we did with the note.Note object, we could do with the note.Note.pitch object instead:"
   ]
  },
  {
   "cell_type": "code",
   "execution_count": 11,
   "metadata": {},
   "outputs": [
    {
     "data": {
      "text/plain": [
       "'C#'"
      ]
     },
     "execution_count": 11,
     "metadata": {},
     "output_type": "execute_result"
    }
   ],
   "source": [
    "csharp = note.Note('C#4')\n",
    "csharp.name"
   ]
  },
  {
   "cell_type": "code",
   "execution_count": 12,
   "metadata": {},
   "outputs": [
    {
     "data": {
      "text/plain": [
       "'C#'"
      ]
     },
     "execution_count": 12,
     "metadata": {},
     "output_type": "execute_result"
    }
   ],
   "source": [
    "csharp.pitch.name"
   ]
  },
  {
   "cell_type": "code",
   "execution_count": 13,
   "metadata": {},
   "outputs": [
    {
     "data": {
      "text/plain": [
       "4"
      ]
     },
     "execution_count": 13,
     "metadata": {},
     "output_type": "execute_result"
    }
   ],
   "source": [
    "csharp.octave"
   ]
  },
  {
   "cell_type": "code",
   "execution_count": 14,
   "metadata": {},
   "outputs": [
    {
     "data": {
      "text/plain": [
       "4"
      ]
     },
     "execution_count": 14,
     "metadata": {},
     "output_type": "execute_result"
    }
   ],
   "source": [
    "csharp.pitch.octave"
   ]
  },
  {
   "cell_type": "markdown",
   "metadata": {},
   "source": [
    "But pitch objects have a lot more to offer for more technical working, for instance, Pitch objects know their names in Spanish:"
   ]
  },
  {
   "cell_type": "code",
   "execution_count": 15,
   "metadata": {},
   "outputs": [
    {
     "data": {
      "text/plain": [
       "'do sostenido'"
      ]
     },
     "execution_count": 15,
     "metadata": {},
     "output_type": "execute_result"
    }
   ],
   "source": [
    "csharp.pitch.spanish"
   ]
  },
  {
   "cell_type": "markdown",
   "metadata": {},
   "source": [
    "Notes don’t:"
   ]
  },
  {
   "cell_type": "code",
   "execution_count": 16,
   "metadata": {},
   "outputs": [
    {
     "ename": "AttributeError",
     "evalue": "'Note' object has no attribute 'spanish'",
     "output_type": "error",
     "traceback": [
      "\u001b[0;31m---------------------------------------------------------------------------\u001b[0m",
      "\u001b[0;31mAttributeError\u001b[0m                            Traceback (most recent call last)",
      "\u001b[0;32m<ipython-input-16-a0f0e2502262>\u001b[0m in \u001b[0;36m<module>\u001b[0;34m()\u001b[0m\n\u001b[0;32m----> 1\u001b[0;31m \u001b[0mcsharp\u001b[0m\u001b[0;34m.\u001b[0m\u001b[0mspanish\u001b[0m\u001b[0;34m\u001b[0m\u001b[0m\n\u001b[0m",
      "\u001b[0;31mAttributeError\u001b[0m: 'Note' object has no attribute 'spanish'"
     ]
    }
   ],
   "source": [
    "csharp.spanish"
   ]
  },
  {
   "cell_type": "markdown",
   "metadata": {},
   "source": [
    "Here are some other things you can do with Pitch objects. Get the sharp printed nicely:"
   ]
  },
  {
   "cell_type": "code",
   "execution_count": 17,
   "metadata": {},
   "outputs": [
    {
     "name": "stdout",
     "output_type": "stream",
     "text": [
      "C♯\n"
     ]
    }
   ],
   "source": [
    "print(csharp.pitch.unicodeName)"
   ]
  },
  {
   "cell_type": "markdown",
   "metadata": {},
   "source": [
    "Get some enharmonics – these are methods, so we add () to them:"
   ]
  },
  {
   "cell_type": "code",
   "execution_count": 18,
   "metadata": {},
   "outputs": [
    {
     "name": "stdout",
     "output_type": "stream",
     "text": [
      "D-4\n",
      "B##3\n"
     ]
    }
   ],
   "source": [
    "print( csharp.pitch.getEnharmonic() )\n",
    "print( csharp.pitch.getLowerEnharmonic() )"
   ]
  },
  {
   "cell_type": "markdown",
   "metadata": {},
   "source": [
    "*By the way, you know how we said that you shouldn’t have a variable named pitch because there’s already a module named pitch. You might wonder why Note objects can have an attribute named pitch without causing any problems. It’s because the .pitch attribute is always attached to a Note , so it’s never used without a prefix of some sort (in this case, csharp.pitch ), and that’s enough to prevent any trouble.*"
   ]
  },
  {
   "cell_type": "markdown",
   "metadata": {},
   "source": [
    "So far, it looks like Pitch objects can do everything Note objects can do and more. So why do we need Note objects? It’s because they also have Duration attributes, as we’ll see in the next section. Without a Duration attribute, you cannot put an object into a Measure or show it on your screen."
   ]
  },
  {
   "cell_type": "markdown",
   "metadata": {},
   "source": [
    "### Carving time with Duration objects\n",
    "For a Note to occupy musical space, it has to last a certain amount of time. We call that time the Note’s Duration. Duration objects are ubiquitous in music21. Nearly all objects have, or can have, a Duration. A Duration object can represent just about any time span.\n",
    "Duration objects are best used when they’re attached to something else, like a Note or a Rest, but for now, let’s look at what we can do with them on their own.  \n",
    "Duration objects reside in the duration module. When you create a Duration object, you can say what type of duration you want it to be when you create it.  \n",
    "Here we’ll create the duration of a half note:"
   ]
  },
  {
   "cell_type": "code",
   "execution_count": 19,
   "metadata": {},
   "outputs": [],
   "source": [
    "halfDuration = duration.Duration('half')"
   ]
  },
  {
   "cell_type": "markdown",
   "metadata": {},
   "source": [
    "The string “half” is called the “type” of the Duration. Music21 Durations use the common American duration types: “whole”, “half”, “quarter”, “eighth”, “16th”, “32nd”, “64th”. Note that for durations shorter than an eighth note, we use numbers instead of spelling out the whole name of the Duration type. Music21 also supports less commonly used types such as “breve” (2 whole notes), “longa” (4 whole notes), and “maxima” (8 whole notes) and on the other side, “128th”, “256th”, etc. down to “2048th” notes. (Some of these very long and very short notes can’t be displayed in many musical notation systems, but it’s good to know that we’re ready when they are).  \n",
    "The other standard way of creating a Duration is by passing it a number when it is created. That number represents how many quarter notes long it is. So we could have created our half note Duration by saying 2 or 2.0. But we can also create Durations that aren’t exactly “whole”, “half”, “quarter”, etc. Let’s create a dotted quarter note, which is 1.5 quarter notes long:"
   ]
  },
  {
   "cell_type": "code",
   "execution_count": 20,
   "metadata": {},
   "outputs": [],
   "source": [
    "dottedQuarter = duration.Duration(1.5)"
   ]
  },
  {
   "cell_type": "markdown",
   "metadata": {},
   "source": [
    "As with the Pitch and Note objects we’ve already seen, there are a bunch of attributes that Duration objects have. The most important one is .quarterLength. The quarterLength of our dottedQuarter variable is of course 1.5: we set it to be. But just as importantly, the halfDuration object also has its quarterLength set:"
   ]
  },
  {
   "cell_type": "code",
<<<<<<< HEAD
   "execution_count": 52,
=======
   "execution_count": 21,
>>>>>>> bb8aa5c1d69592fc6f84e1690f51edf38855c776
   "metadata": {},
   "outputs": [
    {
     "data": {
      "text/plain": [
<<<<<<< HEAD
       "0.25"
      ]
     },
     "execution_count": 52,
=======
       "1.5"
      ]
     },
     "execution_count": 21,
>>>>>>> bb8aa5c1d69592fc6f84e1690f51edf38855c776
     "metadata": {},
     "output_type": "execute_result"
    }
   ],
   "source": [
    "dottedQuarter.quarterLength"
   ]
  },
  {
   "cell_type": "code",
<<<<<<< HEAD
   "execution_count": 53,
=======
   "execution_count": 22,
>>>>>>> bb8aa5c1d69592fc6f84e1690f51edf38855c776
   "metadata": {},
   "outputs": [
    {
     "data": {
      "text/plain": [
       "2.0"
      ]
     },
<<<<<<< HEAD
     "execution_count": 53,
=======
     "execution_count": 22,
>>>>>>> bb8aa5c1d69592fc6f84e1690f51edf38855c776
     "metadata": {},
     "output_type": "execute_result"
    }
   ],
   "source": [
    "halfDuration.quarterLength"
   ]
  },
  {
   "cell_type": "markdown",
   "metadata": {},
   "source": [
    "The .type attribute tells you what general type of Duration you have:"
   ]
  },
  {
   "cell_type": "code",
<<<<<<< HEAD
   "execution_count": 54,
=======
   "execution_count": 23,
>>>>>>> bb8aa5c1d69592fc6f84e1690f51edf38855c776
   "metadata": {},
   "outputs": [
    {
     "data": {
      "text/plain": [
       "'half'"
      ]
     },
<<<<<<< HEAD
     "execution_count": 54,
=======
     "execution_count": 23,
>>>>>>> bb8aa5c1d69592fc6f84e1690f51edf38855c776
     "metadata": {},
     "output_type": "execute_result"
    }
   ],
   "source": [
    "halfDuration.type"
   ]
  },
  {
   "cell_type": "code",
<<<<<<< HEAD
   "execution_count": 55,
=======
   "execution_count": 24,
>>>>>>> bb8aa5c1d69592fc6f84e1690f51edf38855c776
   "metadata": {},
   "outputs": [
    {
     "data": {
      "text/plain": [
<<<<<<< HEAD
       "'16th'"
      ]
     },
     "execution_count": 55,
=======
       "'quarter'"
      ]
     },
     "execution_count": 24,
>>>>>>> bb8aa5c1d69592fc6f84e1690f51edf38855c776
     "metadata": {},
     "output_type": "execute_result"
    }
   ],
   "source": [
    "dottedQuarter.type"
   ]
  },
  {
   "cell_type": "markdown",
   "metadata": {},
   "source": [
    "The type attribute cannot be everything that describes the Duration, there has to be some place where music21 keeps track of the fact that the dottedQuarter variable has a dot (otherwise it wouldn’t have a quarterLength of 1.5). You’ll find the attribute called .dots:"
   ]
  },
  {
   "cell_type": "code",
   "execution_count": 25,
   "metadata": {},
   "outputs": [
    {
     "data": {
      "text/plain": [
       "0"
      ]
     },
     "execution_count": 25,
     "metadata": {},
     "output_type": "execute_result"
    }
   ],
   "source": [
    "halfDuration.dots"
   ]
  },
  {
   "cell_type": "code",
   "execution_count": 26,
   "metadata": {},
   "outputs": [
    {
     "data": {
      "text/plain": [
       "1"
      ]
     },
     "execution_count": 26,
     "metadata": {},
     "output_type": "execute_result"
    }
   ],
   "source": [
    "dottedQuarter.dots"
   ]
  },
  {
   "cell_type": "markdown",
   "metadata": {},
   "source": [
    "The attributes of dots, type, and quarterLength are actually special attributes called “properties”. A property is an attribute that is smart in some way. Let’s change the number of dots on our dottedQuarter object and see what happens to the quarterLength property:"
   ]
  },
  {
   "cell_type": "code",
   "execution_count": 27,
   "metadata": {},
   "outputs": [
    {
     "data": {
      "text/plain": [
       "1.75"
      ]
     },
     "execution_count": 27,
     "metadata": {},
     "output_type": "execute_result"
    }
   ],
   "source": [
    "dottedQuarter.dots = 2\n",
    "dottedQuarter.quarterLength"
   ]
  },
  {
   "cell_type": "code",
   "execution_count": 28,
   "metadata": {},
   "outputs": [
    {
     "data": {
      "text/plain": [
       "1.875"
      ]
     },
     "execution_count": 28,
     "metadata": {},
     "output_type": "execute_result"
    }
   ],
   "source": [
    "dottedQuarter.dots = 3\n",
    "dottedQuarter.quarterLength"
   ]
  },
  {
   "cell_type": "code",
   "execution_count": 29,
   "metadata": {},
   "outputs": [
    {
     "data": {
      "text/plain": [
       "1.9375"
      ]
     },
     "execution_count": 29,
     "metadata": {},
     "output_type": "execute_result"
    }
   ],
   "source": [
    "dottedQuarter.dots = 4\n",
    "dottedQuarter.quarterLength"
   ]
  },
  {
   "cell_type": "markdown",
   "metadata": {},
   "source": [
    "Or let’s change the quarterLength of the dottedQuarter and see what happens to the type and dots:"
   ]
  },
  {
   "cell_type": "code",
   "execution_count": 30,
   "metadata": {},
   "outputs": [
    {
     "data": {
      "text/plain": [
       "'16th'"
      ]
     },
     "execution_count": 30,
     "metadata": {},
     "output_type": "execute_result"
    }
   ],
   "source": [
    "dottedQuarter.quarterLength = 0.25\n",
    "dottedQuarter.type"
   ]
  },
  {
   "cell_type": "code",
   "execution_count": 31,
   "metadata": {},
   "outputs": [
    {
     "data": {
      "text/plain": [
       "0"
      ]
     },
     "execution_count": 31,
     "metadata": {},
     "output_type": "execute_result"
    }
   ],
   "source": [
    "dottedQuarter.dots"
   ]
  },
  {
   "cell_type": "markdown",
   "metadata": {},
   "source": [
    "QuarterLengths are so important to music21 that we’ll sometimes abbreviate them as qL or qLs. Almost everything that is measured in music21 is measured in qLs.  \n",
    "Music21 can also deal with other quarterLengths such as 0.8, which is 4/5ths of a quarter note, or 1/3 which is an eighth note triplet.  \n",
    "Just be careful when creating triplets, because of a weird Python 2 quirk that makes it so that if you divide two integers with “/” you always get back just the integer part of the number, so 8/3 is 2, since 8/3 is 2.66666… and the integer part is 2. I will use “//” in this example, since “//” appears in both Python 2 and Python 3 and is equivalent to Python 2’s “/”"
   ]
  },
  {
   "cell_type": "code",
<<<<<<< HEAD
   "execution_count": 32,
   "metadata": {},
   "outputs": [
    {
     "data": {
      "text/plain": [
       "2"
      ]
     },
     "execution_count": 32,
     "metadata": {},
     "output_type": "execute_result"
    }
   ],
=======
   "execution_count": null,
   "metadata": {},
   "outputs": [],
   "source": []
  },
  {
   "cell_type": "code",
   "execution_count": null,
   "metadata": {},
   "outputs": [],
>>>>>>> bb8aa5c1d69592fc6f84e1690f51edf38855c776
   "source": [
    "8//3"
   ]
  },
  {
   "cell_type": "code",
   "execution_count": 33,
   "metadata": {},
   "outputs": [
    {
     "data": {
      "text/plain": [
       "0"
      ]
     },
     "execution_count": 33,
     "metadata": {},
     "output_type": "execute_result"
    }
   ],
   "source": [
    "1//3"
   ]
  },
  {
   "cell_type": "markdown",
   "metadata": {},
   "source": [
    "To get the number you probably want either use Python 3 or make sure that at least one of the numbers you are dividing is a float. So:"
   ]
  },
  {
   "cell_type": "code",
   "execution_count": 34,
   "metadata": {},
   "outputs": [
    {
     "data": {
      "text/plain": [
       "2.6666666666666665"
      ]
     },
     "execution_count": 34,
     "metadata": {},
     "output_type": "execute_result"
    }
   ],
   "source": [
    "8.0/3.0"
   ]
  },
  {
   "cell_type": "code",
   "execution_count": 35,
   "metadata": {},
   "outputs": [
    {
     "data": {
      "text/plain": [
       "0.3333333333333333"
      ]
     },
     "execution_count": 35,
     "metadata": {},
     "output_type": "execute_result"
    }
   ],
   "source": [
    "1.0/3"
   ]
  },
  {
   "cell_type": "markdown",
   "metadata": {},
   "source": [
    "You can go ahead and make a Triplet or other Tuplet now, but we’ll get to Triplets later."
   ]
  },
  {
   "cell_type": "markdown",
   "metadata": {},
   "source": [
    "### Back to Notes\n",
    "So now you can see the advantage of working with Note objects: they have both a .pitch attribute, which contains a Pitch object, and a .duration attribute, which contains a Duration object. The default Pitch for a Note is C (meaning C4) and the default Duration is 1.0, or a quarter note."
   ]
  },
  {
   "cell_type": "code",
<<<<<<< HEAD
   "execution_count": 36,
=======
   "execution_count": 32,
>>>>>>> bb8aa5c1d69592fc6f84e1690f51edf38855c776
   "metadata": {},
   "outputs": [
    {
     "data": {
      "text/plain": [
       "<music21.pitch.Pitch C4>"
      ]
     },
<<<<<<< HEAD
     "execution_count": 36,
=======
     "execution_count": 32,
>>>>>>> bb8aa5c1d69592fc6f84e1690f51edf38855c776
     "metadata": {},
     "output_type": "execute_result"
    }
   ],
   "source": [
    "n1 = note.Note()\n",
    "n1.pitch"
   ]
  },
  {
   "cell_type": "code",
<<<<<<< HEAD
   "execution_count": 37,
=======
   "execution_count": 33,
>>>>>>> bb8aa5c1d69592fc6f84e1690f51edf38855c776
   "metadata": {},
   "outputs": [
    {
     "data": {
      "text/plain": [
       "<music21.duration.Duration 1.0>"
      ]
     },
<<<<<<< HEAD
     "execution_count": 37,
=======
     "execution_count": 33,
>>>>>>> bb8aa5c1d69592fc6f84e1690f51edf38855c776
     "metadata": {},
     "output_type": "execute_result"
    }
   ],
   "source": [
    "n1.duration"
   ]
  },
  {
   "cell_type": "markdown",
   "metadata": {},
   "source": [
    "But we can play around with them:"
   ]
  },
  {
   "cell_type": "code",
<<<<<<< HEAD
   "execution_count": 38,
=======
   "execution_count": 34,
>>>>>>> bb8aa5c1d69592fc6f84e1690f51edf38855c776
   "metadata": {},
   "outputs": [],
   "source": [
    "n1.pitch.nameWithOctave = 'E-5'\n",
    "n1.duration.quarterLength = 3.0"
   ]
  },
  {
   "cell_type": "markdown",
   "metadata": {},
   "source": [
    "and then the other properties change accordingly:"
   ]
  },
  {
   "cell_type": "code",
<<<<<<< HEAD
   "execution_count": 39,
=======
   "execution_count": 35,
>>>>>>> bb8aa5c1d69592fc6f84e1690f51edf38855c776
   "metadata": {},
   "outputs": [
    {
     "data": {
      "text/plain": [
       "'half'"
      ]
     },
<<<<<<< HEAD
     "execution_count": 39,
=======
     "execution_count": 35,
>>>>>>> bb8aa5c1d69592fc6f84e1690f51edf38855c776
     "metadata": {},
     "output_type": "execute_result"
    }
   ],
   "source": [
    "n1.duration.type"
   ]
  },
  {
   "cell_type": "code",
<<<<<<< HEAD
   "execution_count": 40,
=======
   "execution_count": 36,
>>>>>>> bb8aa5c1d69592fc6f84e1690f51edf38855c776
   "metadata": {},
   "outputs": [
    {
     "data": {
      "text/plain": [
       "1"
      ]
     },
<<<<<<< HEAD
     "execution_count": 40,
=======
     "execution_count": 36,
>>>>>>> bb8aa5c1d69592fc6f84e1690f51edf38855c776
     "metadata": {},
     "output_type": "execute_result"
    }
   ],
   "source": [
    "n1.duration.dots"
   ]
  },
  {
   "cell_type": "code",
<<<<<<< HEAD
   "execution_count": 41,
=======
   "execution_count": 37,
>>>>>>> bb8aa5c1d69592fc6f84e1690f51edf38855c776
   "metadata": {},
   "outputs": [
    {
     "data": {
      "text/plain": [
       "'E-'"
      ]
     },
<<<<<<< HEAD
     "execution_count": 41,
=======
     "execution_count": 37,
>>>>>>> bb8aa5c1d69592fc6f84e1690f51edf38855c776
     "metadata": {},
     "output_type": "execute_result"
    }
   ],
   "source": [
    "n1.pitch.name"
   ]
  },
  {
   "cell_type": "code",
<<<<<<< HEAD
   "execution_count": 42,
=======
   "execution_count": 38,
>>>>>>> bb8aa5c1d69592fc6f84e1690f51edf38855c776
   "metadata": {},
   "outputs": [
    {
     "data": {
      "text/plain": [
       "<accidental flat>"
      ]
     },
<<<<<<< HEAD
     "execution_count": 42,
=======
     "execution_count": 38,
>>>>>>> bb8aa5c1d69592fc6f84e1690f51edf38855c776
     "metadata": {},
     "output_type": "execute_result"
    }
   ],
   "source": [
    "n1.pitch.accidental"
   ]
  },
  {
   "cell_type": "code",
<<<<<<< HEAD
   "execution_count": 43,
=======
   "execution_count": 39,
>>>>>>> bb8aa5c1d69592fc6f84e1690f51edf38855c776
   "metadata": {},
   "outputs": [
    {
     "data": {
      "text/plain": [
       "5"
      ]
     },
<<<<<<< HEAD
     "execution_count": 43,
=======
     "execution_count": 39,
>>>>>>> bb8aa5c1d69592fc6f84e1690f51edf38855c776
     "metadata": {},
     "output_type": "execute_result"
    }
   ],
   "source": [
    "n1.octave"
   ]
  },
  {
   "cell_type": "markdown",
   "metadata": {},
   "source": [
    "We already said that some of the attributes of Pitch can also be called on the Note object itself. The same is true for the most important attributes of Duration:"
   ]
  },
  {
   "cell_type": "code",
<<<<<<< HEAD
   "execution_count": 44,
=======
   "execution_count": 41,
>>>>>>> bb8aa5c1d69592fc6f84e1690f51edf38855c776
   "metadata": {},
   "outputs": [
    {
     "data": {
      "text/plain": [
       "'E-'"
      ]
     },
<<<<<<< HEAD
     "execution_count": 44,
=======
     "execution_count": 41,
>>>>>>> bb8aa5c1d69592fc6f84e1690f51edf38855c776
     "metadata": {},
     "output_type": "execute_result"
    }
   ],
   "source": [
    "n1.name"
   ]
  },
  {
   "cell_type": "code",
<<<<<<< HEAD
   "execution_count": 45,
=======
   "execution_count": 42,
>>>>>>> bb8aa5c1d69592fc6f84e1690f51edf38855c776
   "metadata": {},
   "outputs": [
    {
     "data": {
      "text/plain": [
       "3.0"
      ]
     },
<<<<<<< HEAD
     "execution_count": 45,
=======
     "execution_count": 42,
>>>>>>> bb8aa5c1d69592fc6f84e1690f51edf38855c776
     "metadata": {},
     "output_type": "execute_result"
    }
   ],
   "source": [
    "n1.quarterLength"
   ]
  },
  {
   "cell_type": "markdown",
   "metadata": {},
   "source": [
    "Let’s change the quarterLength back to 1.0 for now:"
   ]
  },
  {
   "cell_type": "code",
<<<<<<< HEAD
   "execution_count": 46,
=======
   "execution_count": 43,
>>>>>>> bb8aa5c1d69592fc6f84e1690f51edf38855c776
   "metadata": {},
   "outputs": [],
   "source": [
    "n1.quarterLength = 1.0"
   ]
  },
  {
   "cell_type": "markdown",
   "metadata": {},
   "source": [
    "Notes can do things that neither Pitch or Duration objects can do. For instance, they can have lyrics. Let’s add some lyrics to Notes. You can easily set Lyric objects just by setting the lyric property. (For reference, the lyric attribute is actually an attribute of GeneralNote, which is a “base class” from which the Note class “inherits”. In other words, the Note class gains the lyric attribute from GeneralNote. But that’s not too important.)"
   ]
  },
  {
   "cell_type": "code",
<<<<<<< HEAD
   "execution_count": 47,
=======
   "execution_count": 44,
>>>>>>> bb8aa5c1d69592fc6f84e1690f51edf38855c776
   "metadata": {},
   "outputs": [],
   "source": [
    "otherNote = note.Note(\"F6\")\n",
    "otherNote.lyric = \"I'm the Queen of the Night!\""
   ]
  },
  {
   "cell_type": "markdown",
   "metadata": {},
   "source": [
    "But let’s do something more complex. Here I add multiple lyrics to n1 using the Note's addLyric() method. And instead of adding a simple String, I’ll add as a lyric the name of the note itself and its pitchClassString."
   ]
  },
  {
   "cell_type": "code",
<<<<<<< HEAD
   "execution_count": 48,
=======
   "execution_count": 45,
>>>>>>> bb8aa5c1d69592fc6f84e1690f51edf38855c776
   "metadata": {},
   "outputs": [],
   "source": [
    "n1.addLyric(n1.nameWithOctave)\n",
    "n1.addLyric(n1.pitch.pitchClassString)"
   ]
  },
  {
   "cell_type": "markdown",
   "metadata": {},
   "source": [
    "Finally, lets put the quarterLength of the note as a string with a preface “QL: “:"
   ]
  },
  {
   "cell_type": "code",
   "execution_count": 49,
   "metadata": {},
   "outputs": [],
   "source": [
    "n1.addLyric('QL: %s' % n1.quarterLength)"
   ]
  },
  {
   "cell_type": "markdown",
   "metadata": {},
   "source": [
    "The format ‘QL: %s’ says to put the first thing outside the quotes in place of %s as a string (the “s” in %s means to make it a string. Remember that .quarterLength is not a string, but a float).  \n",
    "As it should be becoming clear, we can always check our work with the show() method."
   ]
  },
  {
   "cell_type": "code",
   "execution_count": 50,
   "metadata": {},
   "outputs": [
    {
     "data": {
      "image/png": "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\n",
      "text/plain": [
       "<IPython.core.display.Image object>"
      ]
     },
     "metadata": {
      "image/png": {
       "height": 107,
       "width": 206
      }
     },
     "output_type": "display_data"
    }
   ],
   "source": [
    "n1.show()"
   ]
  },
  {
   "cell_type": "markdown",
   "metadata": {},
   "source": [
    "If we now edit the quarterLength property we can still change the Note’s Duration. But because we already set the lyric to show “QL: 1.0, it won’t be changed when we .show() it again in the following example."
   ]
  },
  {
   "cell_type": "code",
   "execution_count": 51,
   "metadata": {},
   "outputs": [
    {
     "data": {
      "image/png": "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\n",
      "text/plain": [
       "<IPython.core.display.Image object>"
      ]
     },
     "metadata": {
      "image/png": {
       "height": 107,
       "width": 273
      }
     },
     "output_type": "display_data"
    }
   ],
   "source": [
    "n1.quarterLength = 6.25\n",
    "n1.show()"
   ]
  },
  {
   "cell_type": "markdown",
   "metadata": {},
   "source": [
    "There many more things we can do with a Note object, but I’m itching to look at what happens when we put multiple Notes together in a row. And to do that we’ll need to learn a bit about the topic of Chapter 4: Streams."
   ]
  },
  {
   "cell_type": "code",
   "execution_count": 46,
   "metadata": {},
   "outputs": [],
   "source": [
    "c = note.Note(\"C4\")\n",
    "d = note.Note('D4')\n",
    "e = note.Note(\"E4\")"
   ]
  },
  {
   "cell_type": "code",
   "execution_count": 52,
   "metadata": {},
   "outputs": [],
   "source": [
    "str1 = stream.Stream()"
   ]
  },
  {
   "cell_type": "code",
   "execution_count": 48,
   "metadata": {},
   "outputs": [
    {
     "data": {
      "image/png": "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\n",
      "text/plain": [
       "<IPython.core.display.Image object>"
      ]
     },
     "metadata": {
      "image/png": {
       "height": 49,
       "width": 152
      }
     },
     "output_type": "display_data"
    }
   ],
   "source": [
    "str1.show()"
   ]
  },
  {
   "cell_type": "code",
   "execution_count": 54,
   "metadata": {},
   "outputs": [],
   "source": [
    "str1.repeatAppend(c, 8)"
   ]
  },
  {
   "cell_type": "code",
   "execution_count": 55,
   "metadata": {},
   "outputs": [
    {
     "data": {
      "image/png": "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\n",
      "text/plain": [
       "<IPython.core.display.Image object>"
      ]
     },
     "metadata": {
      "image/png": {
       "height": 50,
       "width": 748
      }
     },
     "output_type": "display_data"
    }
   ],
   "source": [
    "str1.show()"
   ]
  },
  {
   "cell_type": "code",
   "execution_count": 56,
   "metadata": {},
   "outputs": [],
   "source": [
    "str1.append(d)\n",
    "str1.append(e)"
   ]
  },
  {
   "cell_type": "code",
   "execution_count": 57,
   "metadata": {},
   "outputs": [
    {
     "data": {
      "image/png": "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\n",
      "text/plain": [
       "<IPython.core.display.Image object>"
      ]
     },
     "metadata": {
      "image/png": {
       "height": 50,
       "width": 748
      }
     },
     "output_type": "display_data"
    }
   ],
   "source": [
    "str1.show()"
   ]
  },
  {
   "cell_type": "code",
   "execution_count": null,
   "metadata": {},
   "outputs": [],
   "source": []
  }
 ],
 "metadata": {
  "kernelspec": {
   "display_name": "py3pack",
   "language": "python",
   "name": "py3pack"
  },
  "language_info": {
   "codemirror_mode": {
    "name": "ipython",
    "version": 3
   },
   "file_extension": ".py",
   "mimetype": "text/x-python",
   "name": "python",
   "nbconvert_exporter": "python",
   "pygments_lexer": "ipython3",
   "version": "3.5.2"
  }
 },
 "nbformat": 4,
 "nbformat_minor": 4
}
