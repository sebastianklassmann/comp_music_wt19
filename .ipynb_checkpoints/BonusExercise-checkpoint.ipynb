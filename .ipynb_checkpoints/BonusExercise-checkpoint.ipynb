{
 "cells": [
  {
   "cell_type": "markdown",
   "metadata": {},
   "source": [
    "# Bonus"
   ]
  },
  {
   "cell_type": "markdown",
   "metadata": {},
   "source": [
    "This exercise is for those of you, who have already followed my course in one of the last semesters and don't need an introduction to python. "
   ]
  },
  {
   "cell_type": "markdown",
   "metadata": {},
   "source": [
    "There is a mathematical exercise called the \"Tower of Hanoi\":  \n",
    "  \n",
    "[Tower Interactive](https://www.mathsisfun.com/games/towerofhanoi.html)  \n",
    "[Explanation](https://de.wikipedia.org/wiki/Türme_von_Hanoi)  "
   ]
  },
  {
   "cell_type": "markdown",
   "metadata": {},
   "source": [
    "Based on your level of expertise, choose one of the following exercises:  \n",
    "* Implement an algorithm in Python that solves the Tower of Hanoi for *n* disks.  \n",
    "* Do the same, but avoid loops and use function recursion.\n",
    "* Do the same recursively, but also model the stacks of discs rather than using simple print statements."
   ]
  },
  {
   "cell_type": "markdown",
   "metadata": {},
   "source": [
    "Good luck! :-)"
   ]
  }
 ],
 "metadata": {
  "kernelspec": {
   "display_name": "Python 3.7",
   "language": "python",
   "name": "py3_7"
  },
  "language_info": {
   "codemirror_mode": {
    "name": "ipython",
    "version": 3
   },
   "file_extension": ".py",
   "mimetype": "text/x-python",
   "name": "python",
   "nbconvert_exporter": "python",
   "pygments_lexer": "ipython3",
   "version": "3.7.3"
  }
 },
 "nbformat": 4,
 "nbformat_minor": 4
}
