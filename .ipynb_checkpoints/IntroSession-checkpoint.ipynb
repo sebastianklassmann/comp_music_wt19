{
 "cells": [
  {
   "cell_type": "markdown",
   "metadata": {
    "slideshow": {
     "slide_type": "slide"
    }
   },
   "source": [
    "Tuesday, October $8^{th}$\n",
    "# Computational Musicology: #\n",
    "<img src=\"https://octodex.github.com/images/collabocats.jpg\" alt=\"drawing\" width=\"500\"/></img>  \n",
    "\n",
    "Eine elementare Einführung mit Python 3 unter Jupyter Notebook"
   ]
  },
  {
   "cell_type": "markdown",
   "metadata": {
    "slideshow": {
     "slide_type": "slide"
    }
   },
   "source": [
    "### Introductory session ##  \n",
    "  \n",
    "*Sebastian Klaßmann*  \n",
    "*office hours: Tuesday, 16:00 - 17:00 and by appointment*  \n",
    "*e-Mail: sklassm1@uni-koeln.de*  \n",
    "*This course has a blog: [GitHub-Page](https://sebastianklassmann.github.io)*\n",
    "\n"
   ]
  },
  {
   "cell_type": "markdown",
   "metadata": {
    "slideshow": {
     "slide_type": "slide"
    }
   },
   "source": [
    "## First things first:"
   ]
  },
  {
   "cell_type": "markdown",
   "metadata": {
    "slideshow": {
     "slide_type": "slide"
    }
   },
   "source": [
    "## Who are you and what do you expect?"
   ]
  },
  {
   "cell_type": "markdown",
   "metadata": {
    "slideshow": {
     "slide_type": "slide"
    }
   },
   "source": [
    "Student's expectations:"
   ]
  },
  {
   "cell_type": "markdown",
   "metadata": {
    "slideshow": {
     "slide_type": "slide"
    }
   },
   "source": [
    "## Who am I ? (SK)"
   ]
  },
  {
   "cell_type": "markdown",
   "metadata": {
    "slideshow": {
     "slide_type": "slide"
    }
   },
   "source": [
    "## What do I expect?"
   ]
  },
  {
   "cell_type": "markdown",
   "metadata": {
    "slideshow": {
     "slide_type": "fragment"
    }
   },
   "source": [
    "* attendance and willingness to participate\n",
    "* no attendance lists, however: you will have to hand in regular assignments\n",
    "* one presentation by each and everyone of you"
   ]
  },
  {
   "cell_type": "markdown",
   "metadata": {
    "slideshow": {
     "slide_type": "slide"
    }
   },
   "source": [
    "## Assignments?"
   ]
  },
  {
   "cell_type": "markdown",
   "metadata": {
    "slideshow": {
     "slide_type": "fragment"
    }
   },
   "source": [
    "* After each one of our coding sessions (starting in two weeks), I will hand out an assignment to you via GitHub classroom.\n",
    "* Each assignment will focus on contents of the supplied reading material and our discussion in class.\n",
    "* Each assignment will have a 14-day window to be handed in.\n",
    "* If an assignment is handed in, but needs reworking, you will get an extra week to fix things."
   ]
  },
  {
   "cell_type": "markdown",
   "metadata": {
    "slideshow": {
     "slide_type": "slide"
    }
   },
   "source": [
    "## You get to choose!"
   ]
  },
  {
   "cell_type": "markdown",
   "metadata": {
    "slideshow": {
     "slide_type": "fragment"
    }
   },
   "source": [
    "* At the end of the semester, you need to have handed in and passed 4 assignments.\n",
    "* As I do not check attendance on paper and we have 12 coding sessions, this covers 1/3 of the total number of sessions.\n",
    "* As our seminar has two major focusses, you could technically focus your attention on either music21 or the later sessions on modelling approaches with ANNs."
   ]
  },
  {
   "cell_type": "markdown",
   "metadata": {
    "slideshow": {
     "slide_type": "slide"
    }
   },
   "source": [
    "## Presentation?"
   ]
  },
  {
   "cell_type": "markdown",
   "metadata": {
    "slideshow": {
     "slide_type": "fragment"
    }
   },
   "source": [
    "* In addition to the assignment at hand, I will ask you to team up for presentations. Usually, these presentations will involve presenting program code or concepts of computational musicology that are taken from a relevant article or book excerpt.\n",
    "* The length of any presentation will be based on the contents you present. "
   ]
  },
  {
   "cell_type": "markdown",
   "metadata": {
    "slideshow": {
     "slide_type": "slide"
    }
   },
   "source": [
    "## Reading?"
   ]
  },
  {
   "cell_type": "markdown",
   "metadata": {
    "slideshow": {
     "slide_type": "fragment"
    }
   },
   "source": [
    "* There will be compulsory reading for everybody in class.\n",
    "* These texts will contain information on certain programming strategies, functions and other tools to help you write code.\n",
    "* You can ask any question about these before our courses (office hours, email). However, during our courses, I will usually assume that you have read and prepared the texts provided.\n",
    "* Please note: Our sessions will be focussed on actually writing and analyzing code and concepts together."
   ]
  },
  {
   "cell_type": "markdown",
   "metadata": {
    "slideshow": {
     "slide_type": "slide"
    }
   },
   "source": [
    "## Be literate!"
   ]
  },
  {
   "cell_type": "markdown",
   "metadata": {
    "slideshow": {
     "slide_type": "fragment"
    }
   },
   "source": [
    "* Anything to do with computer code can be abstract in nature.\n",
    "* Functions, definitions and libraries can be easily referenced.\n",
    "* The skill I want you to obtain is to *think computationally* and be able to *communicate concepts in a literate way*\n",
    "* This means that your code should always be legible to interested parties, even if they don't share your background in a given programming language."
   ]
  },
  {
   "cell_type": "markdown",
   "metadata": {
    "slideshow": {
     "slide_type": "slide"
    }
   },
   "source": [
    "## Finally: What is this course about?"
   ]
  },
  {
   "cell_type": "markdown",
   "metadata": {
    "slideshow": {
     "slide_type": "fragment"
    }
   },
   "source": [
    "\"Computational thinking is not only something programmers must know, but it is also a thinking tool for understanding our technology-infused social world. It increases our awareness of how our everyday digital tools work, grounds our cyber ethics, and improve sour resilience against various threats such as algorithm-driven attempts to guide our behavior, personally tailored fake news, viral powers of social media, and massive, data-intensive analysis of our movements. What is more, computational thinking has irrevocably changed the tools, methods, and epistemology of science. Learning CT has many benefits beyond programming.\" (*Denning & Tedre 2019, p. xi*)"
   ]
  },
  {
   "cell_type": "markdown",
   "metadata": {
    "slideshow": {
     "slide_type": "slide"
    }
   },
   "source": [
    "## In short:"
   ]
  },
  {
   "cell_type": "markdown",
   "metadata": {
    "slideshow": {
     "slide_type": "fragment"
    }
   },
   "source": [
    "* This course is based on the assumption that computation is a core concept in an increasingly digital society and world.\n",
    "* However, computation is not just a method involving computers. We claim that it is also a way of thinking about and tackling problems from a variety of academic fields, clearly including musicology."
   ]
  },
  {
   "cell_type": "markdown",
   "metadata": {
    "slideshow": {
     "slide_type": "slide"
    }
   },
   "source": [
    "## Computation?"
   ]
  },
  {
   "cell_type": "markdown",
   "metadata": {
    "slideshow": {
     "slide_type": "fragment"
    }
   },
   "source": [
    "* Computational thinking is a perspective on problems that usually tackles them in an algorithmic way."
   ]
  },
  {
   "cell_type": "markdown",
   "metadata": {
    "slideshow": {
     "slide_type": "slide"
    }
   },
   "source": [
    "## Algorithm?"
   ]
  },
  {
   "cell_type": "markdown",
   "metadata": {
    "slideshow": {
     "slide_type": "fragment"
    }
   },
   "source": [
    "* An algorithm is a very specific type of stepwise cooking recipe.\n",
    "* Algorithms should usually not rely on human-specific external skills, such as the capability to interpret an instruction based on likelihoods of possible choices."
   ]
  },
  {
   "cell_type": "markdown",
   "metadata": {
    "slideshow": {
     "slide_type": "fragment"
    }
   },
   "source": [
    "* Let's form some groups and try it out!"
   ]
  },
  {
   "cell_type": "markdown",
   "metadata": {
    "slideshow": {
     "slide_type": "slide"
    }
   },
   "source": [
    "## Group 1: \n",
    "* In your own words, can you formulate an algorithm on how to find the next steaming cup of coffee?"
   ]
  },
  {
   "cell_type": "markdown",
   "metadata": {
    "slideshow": {
     "slide_type": "slide"
    }
   },
   "source": [
    "## Group 2:\n",
    "* please sit down on the ground.\n",
    "* In your own words, can you formulate an algorithm on how to get up - without using your hands?"
   ]
  },
  {
   "cell_type": "markdown",
   "metadata": {
    "slideshow": {
     "slide_type": "slide"
    }
   },
   "source": [
    "# Group 3:\n",
    "* In your own words, can you formulate an algorithm on how to boil spaghetti?"
   ]
  },
  {
   "cell_type": "markdown",
   "metadata": {
    "slideshow": {
     "slide_type": "slide"
    }
   },
   "source": [
    "## Let us check out the (preliminary) seminar plan!"
   ]
  },
  {
   "cell_type": "markdown",
   "metadata": {
    "slideshow": {
     "slide_type": "fragment"
    }
   },
   "source": [
    "The structure of this seminar will be heavily based on the skills and interest of people that are present. Here's some ideas:  \n",
    "  \n",
    "* Introduction to Jupyterlab\n",
    "* Introduction to Markdown\n",
    "* Introduction to Python\n",
    "* Introduction to Unix / GitHub\n",
    "* Introduction to music21 for music data processing\n",
    "* Introduction to music theory\n",
    "* Introduction to Tensorflow / Keras for implementing easy machine learning models\n",
    "* Introduction to functional programming / recursion"
   ]
  },
  {
   "cell_type": "markdown",
   "metadata": {
    "slideshow": {
     "slide_type": "slide"
    }
   },
   "source": [
    "## Please send me an eMail including your GitHub username!   \n",
    "  \n",
    "$\\rightarrow$ sklassm1@uni-koeln.de  \n",
    "  \n",
    "### (If you don't have one, please create one. It's free: https://github.com )"
   ]
  },
  {
   "cell_type": "markdown",
   "metadata": {
    "slideshow": {
     "slide_type": "slide"
    }
   },
   "source": [
    "## Thank you very much for today!"
   ]
  },
  {
   "cell_type": "markdown",
   "metadata": {
    "slideshow": {
     "slide_type": "skip"
    }
   },
   "source": [
    "----"
   ]
  },
  {
   "cell_type": "markdown",
   "metadata": {
    "slideshow": {
     "slide_type": "slide"
    }
   },
   "source": [
    "### Here's a few helpful references:"
   ]
  },
  {
   "cell_type": "markdown",
   "metadata": {
    "slideshow": {
     "slide_type": "fragment"
    }
   },
   "source": [
    "**Denning, P. J., & Tedre, M. (2019)**. Computational Thinking. Mit Press.  \n",
    "  \n",
    "**Rossant, C. (2018)**. IPython Interactive Computing and Visualization Cookbook: Over 100 hands-on recipes to sharpen your skills in high-performance numerical computing and data science in the Jupyter Notebook. Packt Publishing Ltd."
   ]
  }
 ],
 "metadata": {
  "celltoolbar": "Slideshow",
  "kernelspec": {
   "display_name": "py3pack",
   "language": "python",
   "name": "py3pack"
  },
  "language_info": {
   "codemirror_mode": {
    "name": "ipython",
    "version": 3
   },
   "file_extension": ".py",
   "mimetype": "text/x-python",
   "name": "python",
   "nbconvert_exporter": "python",
   "pygments_lexer": "ipython3",
   "version": "3.5.2"
  }
 },
 "nbformat": 4,
 "nbformat_minor": 4
}
