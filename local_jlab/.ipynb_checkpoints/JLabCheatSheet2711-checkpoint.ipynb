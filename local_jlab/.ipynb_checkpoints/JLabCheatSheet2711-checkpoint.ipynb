{
 "cells": [
  {
   "cell_type": "markdown",
   "metadata": {},
   "source": [
    "# Cheat Sheet: Getting up to speed with a local Jupyterlab installation"
   ]
  },
  {
   "cell_type": "markdown",
   "metadata": {},
   "source": [
    "author: <a href=\"mailto:sklassm1@uni-koeln.de\">Sebastian Klaßmann</a>  \n",
    "Institute of Musicology  \n",
    "University of Cologne  \n",
    "\n",
    "----\n",
    "  \n",
    "November 27$^{th}$, 2019  "
   ]
  },
  {
   "cell_type": "markdown",
   "metadata": {},
   "source": [
    "**Caveats:** This guide aims at installing a working local instance of jupyterlab offering the libraries used at our institute. Your mileage may vary, but if you require a different set of libraries, you can easily modify the instructions given under **Install Function libraries**. This guide is aimed at MacOs, Ubuntu Linux and Windows users. Windows 10 - as of now - does not fully support the displaying of notation within a given Notebook. Calling the basic music21.show() method will result in the notation being displayed in your notation software of choice. This guide will be modified when a solution is given.\n",
    "  \n",
    "----"
   ]
  },
  {
   "cell_type": "markdown",
   "metadata": {},
   "source": [
    "## 1. Install Anaconda  \n",
    "  \n",
    "The first step is to install a scientific Python distribution. We will be using Python 3.7 as a core distribution for this guide.  \n",
    "  \n",
    "Go to [https://www.anaconda.com/distribution/#download-section] and download the Python 3.7 version that is correct for your operating system.  \n",
    "The easiest thing is to use the graphical installer. If you feel confident, you can also use the command line version.  \n",
    "  \n",
    "  \n",
    "**Windows users**: Please avoid using a folder name containing empty spaces for installing Anaconda! You might have to add Anaconda to your path in order for conda commands to be executed correctly from your command line. Specifically, you will have to edit your %PATH% variable to contain the following folders (please adjust if your installation location for Anaconda differs): C:\\Anaconda3;C:\\Anaconda3\\Scripts;C:\\Anaconda3\\Library\\bin  \n",
    "  \n",
    "As you can see, you can simply add additional folders to your %PATH% by separating them with a semicolon. (\";\")  \n",
    "  \n",
    "If you are unsure about how you can modify your PATH, this link might help you:\n",
    "https://www.architectryan.com/2018/03/17/add-to-the-path-on-windows-10/\n",
    "\n",
    "  \n",
    "**After installing Anaconda3, please restart your computer!**  \n",
    "\n",
    "----"
   ]
  },
  {
   "cell_type": "markdown",
   "metadata": {},
   "source": [
    "## 2. Install Jupyterlab  \n",
    "  \n",
    "We will be using Jupyterlab as a state-of-the-art graphical interface for our environment.  \n",
    "Please open up a terminal session:  \n",
    "* MacOs: Hit **command+space**, type *terminal* and confirm with enter.\n",
    "* Windows: Enter your command line (hit the *windows key* or *windows icon* at the bottem left of your screen, type in \"cmd\" and confirm with \"enter\".\n",
    "* Ubuntu Linux: hit **ctrl+alt+t**  \n",
    "  \n",
    "Please remember this procedure, as we will be working with the terminal/command line a lot.\n",
    "\n",
    "**If you are using MAC Os Catalina or above, you will need to switch to the bash shell before performing the next step.** \n",
    "  \n",
    "From the terminal, use the following command to do so:\n",
    "```chsh -s /bin/bash```\n",
    "  \n",
    "Alternatively, if that did not work (output: non-standard shell), with the Terminal open, click on Terminal --> preferences. Locate the menu entry *Shells open with*. Select *Command (complete path)*, specify ```/bin/bash```and close the window. You now have to restart your terminal. \n",
    "\n",
    "\n",
    "Now that you have installed anaconda, you can use the following command to install a working  \n",
    "version of Jupyterlab:  \n",
    "  \n",
    "```conda install -c conda-forge jupyterlab```  \n",
    "  \n",
    "Please confirm the installation of packages using 'y' and hitting 'return'. \n",
    "  \n",
    "-----"
   ]
  },
  {
   "cell_type": "markdown",
   "metadata": {},
   "source": [
    "## 3. Create a Conda environment to work from  \n",
    "  \n",
    "  \n",
    "```conda create -n *yourenvname* python=3.7 anaconda```  \n",
    "  \n",
    "will create an environment called \"yourenvname\" (change to your liking) using Python Version 3.7 and installing a few core libraries for scientific computing.  \n",
    "  \n",
    "Please use 'y' and hit 'return' to confirm the installation.  \n",
    "  \n",
    "After creating the environment, you can activate it by typing  \n",
    "  \n",
    "```conda activate *yourenvname*```  \n",
    "  \n",
    "While we are still in the freshly created environment, let us make sure  \n",
    "that Jupyterlab is up to date within that environment as well:  \n",
    "  \n",
    "```pip install --upgrade jupyterlab```\n",
    "  \n",
    "If you want to stop working within the conda environment, use:  \n",
    "  \n",
    "```conda deactivate```  \n",
    "  \n",
    "----\n"
   ]
  },
  {
   "cell_type": "markdown",
   "metadata": {},
   "source": [
    "## 4. Register environment as Jupyter Kernel\n",
    "  \n",
    "**In case you tried out the ```conda deactivate``` command at the end of step 3:** \n",
    "  \n",
    "Please go ahead and - from the terminal - activate your conda environments. \n",
    "\n",
    "```conda activate *yourenvname*```\n",
    "  \n",
    "Next, we need to tell Jupyterlab to recognize your virtual environment as a Jupyter Kernel.  \n",
    "This can be achieved via the following terminal command (adjust to your environment name from step 3.):  \n",
    "  \n",
    "Mac OSx / Ubuntu:\n",
    "```python3 -m ipykernel install --user --name yourenvname --display-name \"Python (yourenvname)\"```  \n",
    "  \n",
    "Windows:\n",
    "```python -m ipykernel install --user --name yourenvname --display-name \"Python (yourenvname)\"``` \n",
    "\n",
    "----"
   ]
  },
  {
   "cell_type": "markdown",
   "metadata": {},
   "source": [
    "## 5. Install prerequisites for music21  \n",
    "  \n",
    "We wil be using the function library *music21* that is developed and maintained by the MIT for  \n",
    "music processing and representation tasks.  Music 21 needs a notation software of sorts in order  \n",
    "to correctly display notation.  \n",
    "  \n",
    "One very good and free option to do this is Musescore:  \n",
    "[https://musescore.org/en]  \n",
    "  \n",
    "Please go ahead and download and install musescore on your system.  \n",
    "**Please make sure not to use empty spaces for the folder that you install MuseScore in!**\n",
    "**WINDOWS users: If you want to be on the safe side, please rename your \"Musescore 3.exe\" to \"Musescore3.exe\" to avoid errors down the line. Please pay close attention to the spelling of your app's filename when proceeding with Step 7!**\n",
    "  \n",
    "**Please restart your system!**\n",
    "  \n",
    "**Note to MacOS Catalina users: in order for Musescore to be executed by Catalina, you will have to do a manual start of the software\n",
    "when starting it for the first time. Please locate the \"Musescore 3.app\" file in your finder. Right-click on it and open it. Please confirm\n",
    "that you want to open Musescore. Let the startup routine run through. You can close Musescore now.**\n",
    "  \n",
    "----"
   ]
  },
  {
   "cell_type": "markdown",
   "metadata": {},
   "source": [
    "## 6. Install function libraries  \n",
    "  \n",
    "Next, we will install a variety of function libraries that we will be using during our course.  \n",
    "Please make sure that your Conda environment is still active.  \n",
    "\n",
    "You can copy and paste the following code to your terminal:  \n",
    "  \n",
    "```pip install --upgrade numpy scipy sklearn matplotlib pandas simpy seaborn networkx graphviz click pymc3 arviz mock``` \n",
    "  \n",
    "There is a few libraries that will have to be individually installed. Therefore you will need the following commands as well:  \n",
    "  \n",
    "```pip install --upgrade music21```  \n",
    "```pip install --upgrade setuptools```  \n",
    "```pip install --upgrade keras```  \n",
    "```pip install --upgrade tensorflow```  \n",
    "\n",
    "----"
   ]
  },
  {
   "cell_type": "markdown",
   "metadata": {},
   "source": [
    "## 7. Set music21 environment variables for music notation\n",
    "\n"
   ]
  },
  {
   "cell_type": "markdown",
   "metadata": {},
   "source": [
    "In order for music notation to be displayed correctly within music21, you will have to inform music21 about the correct path to your  \n",
    "MuseScore Installation.  \n",
    "  \n",
    "### Before proceeding, please locate your installation of Musescore and note down the EXACT location of your musescore executable file.  \n",
    "### Please pay very close attention to the correct spelling of your path and filename for the app, including capital letters!\n",
    "  \n",
    "Please start a  Python interpreter from within your environment in your terminal / command line:  \n",
    "  \n",
    "```python3```(MacOS, Ubuntu)\n",
    "```python```(Windows)  \n",
    "  \n",
    "Please import the music21 library:  \n",
    "```from music21 import *``` \n",
    "  \n",
    "Please execute the following commands in order and change the directories to match your MuseScore installation: \n",
    "\n",
    "**WINDOWS**:  \n",
    "\n",
    "```us = environment.UserSettings()```  \n",
    "```us['musicxmlPath'] = '/Path/To/Musescore3.exe'```  \n",
    "```us['musescoreDirectPNGPath'] = '/Path/To/Musescore3.exe'```  \n",
    "  \n",
    "**Linux**:  \n",
    "  \n",
    "```us = environment.UserSettings()```  \n",
    "```us['musicxmlPath'] = '/Path/To/musescore'```  \n",
    "```us['musescoreDirectPNGPath'] = '/Path/To/musescore'``` \n",
    "  \n",
    "**MacOS**:  \n",
    "  \n",
    "On MacOs, the musecore app file is actually a container file that contains the files needed to execute Musescore. Therefore, it is necessary to set the path to Musescore as follows (assuming the app file is named \"Musescore 3.app\":  \n",
    "\n",
    "```us = environment.UserSettings()```   \n",
    "```us['musicxmlPath'] = '/Path/To/Musescore 3.app/Contents/MacOS/mscore'```  \n",
    "```us['musescoreDirectPNGPath'] = '/Path/To/Musescore3 .app/Contents/MacOS/mscore'``` \n",
    "  \n",
    "Quit your Python Interpreter:  \n",
    "  \n",
    "```quit()```\n"
   ]
  },
  {
   "cell_type": "markdown",
   "metadata": {},
   "source": [
    "### That's it.  \n",
    "  \n",
    "All you need to do to access your jupyterlab installation is:  \n",
    "  \n",
    "Please activate your conda environment from the terminal:  \n",
    "  \n",
    "```conda activate *yourenvname*```  \n",
    "  \n",
    "The following command starts jupyterlab:  \n",
    "  \n",
    "```jupyter lab```\n"
   ]
  },
  {
   "cell_type": "markdown",
   "metadata": {},
   "source": [
    "### Good luck and enjoy using your local installation of Jupyter Lab!"
   ]
  },
  {
   "cell_type": "markdown",
   "metadata": {},
   "source": [
    "-----"
   ]
  },
  {
   "cell_type": "markdown",
   "metadata": {},
   "source": [
    "## Optional functions. "
   ]
  },
  {
   "cell_type": "markdown",
   "metadata": {},
   "source": [
    "-----"
   ]
  },
  {
   "cell_type": "markdown",
   "metadata": {},
   "source": [
    "## 8. Install LaTex  \n",
    "  \n",
    "In order to be able to convert our Jupyter Notebooks to different file formats  \n",
    "down the road, we will need to install a system-wide latex implementation.  \n",
    "  \n",
    "**Please be aware:** These latex implementations come with a file download of considerable size. Please check the stability and\n",
    "connection speed of your internet connection before attempting this part of the installation process.\n",
    "  \n",
    "- MacOs: Install MacTex: [http://tug.org/mactex/]\n",
    "- Win: Install MikTex: [https://miktex.org/download] You will be prompted to update your MikTex installation. Please do so.\n",
    "- Ubuntu: Install TexLive: [http://tug.org/texlive/acquire-netinstall.html]  \n",
    "  \n",
    "You will need to restart your system in order for your LaTex installation to be  \n",
    "recognized later on.\n",
    "  \n",
    "-----"
   ]
  },
  {
   "cell_type": "markdown",
   "metadata": {},
   "source": [
    "## 9. Notebook Conversion  \n",
    "  \n",
    "Please go ahead and - from the terminal - activate your conda environments.  \n",
    "```source activate *yourenvname*```\n",
    "  \n",
    "We will need to install two libraries for our notebook conversion to work properly:  \n",
    "  \n",
    "  \n",
    "```pip install nbconvert``` \n",
    "  \n",
    "**If you are on MacOSX or Ubuntu, you can use homebrew to install pandoc:**  \n",
    "  \n",
    "First, you need to install homebrew, if it is not already installed:  \n",
    "  \n",
    "```/usr/bin/ruby -e \"$(curl -fsSL https://raw.githubusercontent.com/Homebrew/install/master/install)\"```  \n",
    "  \n",
    "This script will guide you through the installation process!\n",
    "  \n",
    "After this, you can use homebrew to download and install pandoc:  \n",
    "\n",
    "```brew install pandoc``` \n",
    "\n",
    "**If you are using WIN, you will have to use a package installer:**  \n",
    "```pip install pandoc``` \n",
    "\n",
    "----"
   ]
  }
 ],
 "metadata": {
  "kernelspec": {
   "display_name": "Python 3.7",
   "language": "python",
   "name": "py3_7"
  },
  "language_info": {
   "codemirror_mode": {
    "name": "ipython",
    "version": 3
   },
   "file_extension": ".py",
   "mimetype": "text/x-python",
   "name": "python",
   "nbconvert_exporter": "python",
   "pygments_lexer": "ipython3",
   "version": "3.7.3"
  }
 },
 "nbformat": 4,
 "nbformat_minor": 4
}
