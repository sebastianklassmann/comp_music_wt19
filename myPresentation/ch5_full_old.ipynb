{
 "cells": [
  {
   "cell_type": "markdown",
   "metadata": {},
   "source": [
    "# Chapter 5\n",
    "\n",
    "Putting Stream objects into other Stream objects can be useful to model certain problems or musical structures, but will lead to complications, when accessing elements of objects in higher levels of the created object chain."
   ]
  },
  {
   "cell_type": "markdown",
   "metadata": {},
   "source": [
    "We now want to take a closer look at these so called 'nested' Structures and how to work with them."
   ]
  },
  {
   "cell_type": "markdown",
   "metadata": {},
   "source": [
    "## Lists of Lists"
   ]
  },
  {
   "cell_type": "markdown",
   "metadata": {},
   "source": [
    "The basic general container for all kinds of objects, that we already know is the list.\n",
    "Lets start with two of these:"
   ]
  },
  {
   "cell_type": "code",
   "execution_count": 3,
   "metadata": {},
   "outputs": [],
   "source": [
    "listA = [10,20,30]\n",
    "listB = [1,2,3, listA]"
   ]
  },
  {
   "cell_type": "markdown",
   "metadata": {},
   "source": [
    "Short repetition of basic features:"
   ]
  },
  {
   "cell_type": "code",
   "execution_count": 4,
   "metadata": {},
   "outputs": [
    {
     "name": "stdout",
     "output_type": "stream",
     "text": [
      "----------Basic Features----------\n",
      "\n",
      "listB: [1, 2, 3, [10, 20, 30]]\n",
      "\n",
      "len(listB): 4\n",
      "\n",
      "listB[3] [10, 20, 30]\n",
      "\n",
      "listB[3] is listA: True\n",
      "\n",
      "listA[2]: 30\n",
      "----------------------------------\n"
     ]
    }
   ],
   "source": [
    "#\n",
    "print('----------Basic Features----------')\n",
    "print()\n",
    "print('listB:',listB)\n",
    "print()\n",
    "print('len(listB):',len(listB))\n",
    "print()\n",
    "print('listB[3]', listB[3])\n",
    "print()\n",
    "print('listB[3] is listA:', listB[3] is listA) \n",
    "print()\n",
    "print('listA[2]:', listA[2])\n",
    "print('----------------------------------')"
   ]
  },
  {
   "cell_type": "markdown",
   "metadata": {},
   "source": [
    "With the above code we accessed our elements through the one dimension of either listA's or listB's indices. "
   ]
  },
  {
   "cell_type": "markdown",
   "metadata": {},
   "source": [
    "Now since listA is contained in listB, we can access listA's elements through listB:"
   ]
  },
  {
   "cell_type": "code",
   "execution_count": 5,
   "metadata": {},
   "outputs": [
    {
     "name": "stdout",
     "output_type": "stream",
     "text": [
      "listA[2]: 30\n"
     ]
    }
   ],
   "source": [
    "print('listA[2]:', listB[3][2])"
   ]
  },
  {
   "cell_type": "markdown",
   "metadata": {},
   "source": [
    "Now we took acces through two dimensions. The first dimension were listB's indices, the second one listA's. "
   ]
  },
  {
   "cell_type": "markdown",
   "metadata": {},
   "source": [
    "## First problem\n",
    "How can we access every SINGLE element in our nested list?"
   ]
  },
  {
   "cell_type": "code",
   "execution_count": 6,
   "metadata": {},
   "outputs": [
    {
     "name": "stdout",
     "output_type": "stream",
     "text": [
      "1\n",
      "2\n",
      "3\n",
      "[10, 20, 30]\n"
     ]
    }
   ],
   "source": [
    "for number in listB:\n",
    "    print(number)"
   ]
  },
  {
   "cell_type": "markdown",
   "metadata": {},
   "source": [
    "Note that 'number' isn't really a NUMBER, but an ELEMENT in listB. So, as seen above, the fourth iteration will print a whole list. "
   ]
  },
  {
   "cell_type": "markdown",
   "metadata": {},
   "source": [
    "### Solution"
   ]
  },
  {
   "cell_type": "code",
   "execution_count": 20,
   "metadata": {},
   "outputs": [
    {
     "name": "stdout",
     "output_type": "stream",
     "text": [
      "1\n",
      "2\n",
      "3\n",
      "10\n",
      "20\n",
      "30\n"
     ]
    }
   ],
   "source": [
    "for element in listB:\n",
    "    if isinstance(element, list):\n",
    "        for number in element:\n",
    "            print(number)\n",
    "    else:\n",
    "        print(element)"
   ]
  },
  {
   "cell_type": "markdown",
   "metadata": {},
   "source": [
    "### How does it work?"
   ]
  },
  {
   "cell_type": "markdown",
   "metadata": {},
   "source": [
    "**Line 1** iterates through the elements of listB.\n",
    "Note that it is in fact the same command as: \\\n",
    "'for element in listB:'\n"
   ]
  },
  {
   "cell_type": "markdown",
   "metadata": {},
   "source": [
    "**Line 2** calls the *built-in function* **insinstance()** to make a decision. \n",
    "\n",
    "From the Python documentation: \\\n",
    "**isinstance(*object*, *classinfo*)** \\\n",
    "Return **true** if the *object* argument is an instance of the *classinfo* argument, or of a (direct, indirect or virtual) subclass thereof. If object is not an object of the given type, the function always returns **false**. If *classinfo* is a tuple of type objects (or recursively, other such tuples), return true if *object* is an instance of any of the types. If *classinfo* is not a type or tuple of types and such tuples, a TypeError exception is raised."
   ]
  },
  {
   "cell_type": "markdown",
   "metadata": {},
   "source": [
    "If line 2 found *element* to be a list object, **Line 3** and **Line 4** will execute a second loop, that is a generic 'Print-Every-Element-Of-List'-loop. "
   ]
  },
  {
   "cell_type": "markdown",
   "metadata": {},
   "source": [
    "If line 2 didn't find *element* to be a list object, **Line 5** and **Line 6** will turn the first loop into a print-loop."
   ]
  },
  {
   "cell_type": "markdown",
   "metadata": {},
   "source": [
    "## Second Problem\n",
    "\n",
    "*What if...*"
   ]
  },
  {
   "cell_type": "code",
   "execution_count": 8,
   "metadata": {},
   "outputs": [
    {
     "data": {
      "text/plain": [
       "[100, 200, 300, [1, 2, 3, [10, 20, 30]]]"
      ]
     },
     "execution_count": 8,
     "metadata": {},
     "output_type": "execute_result"
    }
   ],
   "source": [
    "listC = [100, 200, 300, listB]\n",
    "listC"
   ]
  },
  {
   "cell_type": "markdown",
   "metadata": {},
   "source": [
    "*If we use the above idea...*"
   ]
  },
  {
   "cell_type": "code",
   "execution_count": 9,
   "metadata": {},
   "outputs": [
    {
     "name": "stdout",
     "output_type": "stream",
     "text": [
      "100\n",
      "200\n",
      "300\n",
      "1\n",
      "2\n",
      "3\n",
      "10\n",
      "20\n",
      "30\n"
     ]
    }
   ],
   "source": [
    "for thing in listC:\n",
    "    if isinstance(thing, list):\n",
    "        for innerThing in thing:\n",
    "            if isinstance(innerThing, list):\n",
    "                for number in innerThing:\n",
    "                    print(number)\n",
    "            else:\n",
    "                print(innerThing)\n",
    "    else:\n",
    "        print(thing)"
   ]
  },
  {
   "cell_type": "markdown",
   "metadata": {},
   "source": [
    "**NOW WHAT IF...**"
   ]
  },
  {
   "cell_type": "code",
   "execution_count": 10,
   "metadata": {},
   "outputs": [
    {
     "data": {
      "text/plain": [
       "[8, 9, [4, 5, [100, 200, 300, [1, 2, 3, [10, 20, 30]]], 6, 7]]"
      ]
     },
     "execution_count": 10,
     "metadata": {},
     "output_type": "execute_result"
    }
   ],
   "source": [
    "listD = [4,5,listC,6,7]\n",
    "listE = [8,9,listD]\n",
    "listE"
   ]
  },
  {
   "cell_type": "markdown",
   "metadata": {},
   "source": [
    "To visualize the depth of our structure lets try to access an element of listA through lists B,C,D and E."
   ]
  },
  {
   "cell_type": "code",
   "execution_count": 11,
   "metadata": {},
   "outputs": [
    {
     "name": "stdout",
     "output_type": "stream",
     "text": [
      "30\n"
     ]
    }
   ],
   "source": [
    "print(listE[2][2][3][3][2])"
   ]
  },
  {
   "cell_type": "markdown",
   "metadata": {},
   "source": [
    "We arrived at a 5th level of nesting and would thus need 5 loops for a full iteration. "
   ]
  },
  {
   "cell_type": "markdown",
   "metadata": {},
   "source": [
    "### Solution"
   ]
  },
  {
   "cell_type": "markdown",
   "metadata": {},
   "source": [
    "If look at our bloated loop structure again, we can observer a useful pattern:"
   ]
  },
  {
   "cell_type": "code",
   "execution_count": 12,
   "metadata": {},
   "outputs": [
    {
     "name": "stdout",
     "output_type": "stream",
     "text": [
      "100\n",
      "200\n",
      "300\n",
      "1\n",
      "2\n",
      "3\n",
      "10\n",
      "20\n",
      "30\n"
     ]
    }
   ],
   "source": [
    "for thing in listC:\n",
    "    if isinstance(thing, list):\n",
    "        for innerThing in thing:\n",
    "            if isinstance(innerThing, list):\n",
    "                for number in innerThing:\n",
    "                    print(number)\n",
    "            else:\n",
    "                print(innerThing)\n",
    "    else:\n",
    "        print(thing)"
   ]
  },
  {
   "cell_type": "markdown",
   "metadata": {},
   "source": [
    "For each level of depth in our nested list, we another *'if isinstance()...'* branching."
   ]
  },
  {
   "cell_type": "code",
   "execution_count": 13,
   "metadata": {},
   "outputs": [],
   "source": [
    "def flatPrint(myList):\n",
    "    for element in myList:\n",
    "        if isinstance(element, list):\n",
    "            flatPrint(element)\n",
    "        else:\n",
    "            print(element)"
   ]
  },
  {
   "cell_type": "code",
   "execution_count": 14,
   "metadata": {},
   "outputs": [
    {
     "name": "stdout",
     "output_type": "stream",
     "text": [
      "100\n",
      "200\n",
      "300\n",
      "1\n",
      "2\n",
      "3\n",
      "10\n",
      "20\n",
      "30\n"
     ]
    }
   ],
   "source": [
    "flatPrint(listC)"
   ]
  },
  {
   "cell_type": "markdown",
   "metadata": {},
   "source": [
    "### Excursion: Functions"
   ]
  },
  {
   "cell_type": "markdown",
   "metadata": {},
   "source": [
    "Lets look at the first line of the above code: \\\n",
    "**def** ***flatPrint***(*myList*):"
   ]
  },
  {
   "cell_type": "markdown",
   "metadata": {},
   "source": [
    "The **def** statement means that we want to 'define' a new function. \n",
    "\n",
    "***flatPrint*** is the name for our function under which we can call it later on. It can be any name, but basically the same guidelines as for variable names can be applied. For example built-in funtion names should be avoided. \n",
    "\n",
    "The expression in the brackets is the *argument* that is passed to the function. In our case it is *myList*. In the function it works as a (local) variable, which contains an object that gets passed into the function when you call it. You can use it in the functions body, but not outside of it. \\\n",
    "Also a function can have several input arguments (or none at all) of arbitrary types, it might even be another function."
   ]
  },
  {
   "cell_type": "code",
   "execution_count": 21,
   "metadata": {},
   "outputs": [
    {
     "name": "stdout",
     "output_type": "stream",
     "text": [
      "11\n"
     ]
    }
   ],
   "source": [
    "def myFunction(a,b): # example for a bad name!\n",
    "    print(a+b)\n",
    "    \n",
    "number1 = 5\n",
    "number2 = 6\n",
    "\n",
    "myFunction(number1,number2)"
   ]
  },
  {
   "cell_type": "code",
   "execution_count": 22,
   "metadata": {},
   "outputs": [
    {
     "name": "stdout",
     "output_type": "stream",
     "text": [
      "5\n"
     ]
    }
   ],
   "source": [
    "print(number1)\n"
   ]
  },
  {
   "cell_type": "code",
   "execution_count": 23,
   "metadata": {},
   "outputs": [
    {
     "ename": "NameError",
     "evalue": "name 'a' is not defined",
     "output_type": "error",
     "traceback": [
      "\u001b[0;31m---------------------------------------------------------------------------\u001b[0m",
      "\u001b[0;31mNameError\u001b[0m                                 Traceback (most recent call last)",
      "\u001b[0;32m<ipython-input-23-bca0e2660b9f>\u001b[0m in \u001b[0;36m<module>\u001b[0;34m()\u001b[0m\n\u001b[0;32m----> 1\u001b[0;31m \u001b[0mprint\u001b[0m\u001b[0;34m(\u001b[0m\u001b[0ma\u001b[0m\u001b[0;34m)\u001b[0m\u001b[0;34m\u001b[0m\u001b[0m\n\u001b[0m",
      "\u001b[0;31mNameError\u001b[0m: name 'a' is not defined"
     ]
    }
   ],
   "source": [
    "print(a)"
   ]
  },
  {
   "cell_type": "markdown",
   "metadata": {},
   "source": [
    "### **return**"
   ]
  },
  {
   "cell_type": "markdown",
   "metadata": {},
   "source": [
    "Now our last observation could lead us to further question: \\\n",
    "*What if we want to use the result of the functions processing outside of the function and not just print it?* \\\n",
    "Since we can give the function some input, we can also tell it to **return** some output to us"
   ]
  },
  {
   "cell_type": "code",
   "execution_count": 24,
   "metadata": {},
   "outputs": [],
   "source": [
    "# Several examples of functions\n",
    "def add1(a,b):\n",
    "    c = a+b\n",
    "    return c\n",
    "\n",
    "def add2(a,b):\n",
    "    return a+b\n",
    "\n",
    "def add3(a,b):\n",
    "    print(a+b)\n",
    "    return a+b    "
   ]
  },
  {
   "cell_type": "code",
   "execution_count": 26,
   "metadata": {},
   "outputs": [
    {
     "name": "stdout",
     "output_type": "stream",
     "text": [
      "11\n",
      "\n",
      "11\n"
     ]
    }
   ],
   "source": [
    "# Several calls of the above functions\n",
    "number1 = 5\n",
    "number2 = 6\n",
    "\n",
    "number3 = add1(number1,number2)\n",
    "print(number3)\n",
    "print()\n",
    "print(add1(number1,number2))\n"
   ]
  },
  {
   "cell_type": "code",
   "execution_count": 27,
   "metadata": {},
   "outputs": [
    {
     "name": "stdout",
     "output_type": "stream",
     "text": [
      "11\n",
      "\n",
      "11\n"
     ]
    }
   ],
   "source": [
    "number1 = 5\n",
    "number2 = 6\n",
    "\n",
    "number3 = add2(number1,number2)\n",
    "print(number3)\n",
    "print()\n",
    "print(add2(number1,number2))"
   ]
  },
  {
   "cell_type": "code",
   "execution_count": 28,
   "metadata": {},
   "outputs": [
    {
     "name": "stdout",
     "output_type": "stream",
     "text": [
      "11\n",
      "11\n",
      "\n",
      "11\n",
      "11\n"
     ]
    }
   ],
   "source": [
    "number1 = 5\n",
    "number2 = 6\n",
    "\n",
    "number3 = add3(number1,number2)\n",
    "print(number3)\n",
    "print()\n",
    "print(add3(number1,number2))"
   ]
  },
  {
   "cell_type": "markdown",
   "metadata": {},
   "source": [
    "### Recursion"
   ]
  },
  {
   "cell_type": "markdown",
   "metadata": {},
   "source": [
    "Since, in a functions body, we are free to do whatever we want, we can also call other functions."
   ]
  },
  {
   "cell_type": "code",
   "execution_count": 32,
   "metadata": {},
   "outputs": [
    {
     "name": "stdout",
     "output_type": "stream",
     "text": [
      "1\n",
      "\n",
      "2\n"
     ]
    }
   ],
   "source": [
    "def increaseByOne(a):\n",
    "    e = add1(a,1)\n",
    "    return e\n",
    "number1 = 1\n",
    "print(number1)\n",
    "print()\n",
    "print(increaseByOne(number1))"
   ]
  },
  {
   "cell_type": "markdown",
   "metadata": {},
   "source": [
    "And we can also call the function itself and create a *recursion*. "
   ]
  },
  {
   "cell_type": "code",
   "execution_count": 37,
   "metadata": {},
   "outputs": [
    {
     "name": "stdout",
     "output_type": "stream",
     "text": [
      "1\n",
      "2\n",
      "4\n",
      "8\n",
      "16\n",
      "32\n"
     ]
    }
   ],
   "source": [
    "# function for natural powers\n",
    "# n < 0 not allowed!\n",
    "def power_n(number,n):\n",
    "    if (n==0):\n",
    "        return 1\n",
    "    else:\n",
    "        return number*power_n(number,n-1)\n",
    "    \n",
    "number1 = 2\n",
    "\n",
    "print(power_n(number1,0))  \n",
    "print(power_n(number1,1))  \n",
    "print(power_n(number1,2))  \n",
    "print(power_n(number1,3))\n",
    "print(power_n(number1,4))   \n",
    "print(power_n(number1,5))  "
   ]
  },
  {
   "cell_type": "markdown",
   "metadata": {},
   "source": [
    "Why use the if-branching? \\\n",
    "It is our termination criterion and **VITAL** to our function, because without it, the function wouldn't terminate and call itself forever:"
   ]
  },
  {
   "cell_type": "code",
   "execution_count": 44,
   "metadata": {},
   "outputs": [],
   "source": [
    "def infi():\n",
    "    return infi()"
   ]
  },
  {
   "cell_type": "code",
   "execution_count": 45,
   "metadata": {},
   "outputs": [
    {
     "ename": "RecursionError",
     "evalue": "maximum recursion depth exceeded",
     "output_type": "error",
     "traceback": [
      "\u001b[0;31m---------------------------------------------------------------------------\u001b[0m",
      "\u001b[0;31mRecursionError\u001b[0m                            Traceback (most recent call last)",
      "\u001b[0;32m<ipython-input-45-7ae3c2d3c94c>\u001b[0m in \u001b[0;36m<module>\u001b[0;34m()\u001b[0m\n\u001b[0;32m----> 1\u001b[0;31m \u001b[0minfi\u001b[0m\u001b[0;34m(\u001b[0m\u001b[0;34m)\u001b[0m\u001b[0;34m\u001b[0m\u001b[0m\n\u001b[0m",
      "\u001b[0;32m<ipython-input-44-3c82d2529aac>\u001b[0m in \u001b[0;36minfi\u001b[0;34m()\u001b[0m\n\u001b[1;32m      1\u001b[0m \u001b[0;32mdef\u001b[0m \u001b[0minfi\u001b[0m\u001b[0;34m(\u001b[0m\u001b[0;34m)\u001b[0m\u001b[0;34m:\u001b[0m\u001b[0;34m\u001b[0m\u001b[0m\n\u001b[0;32m----> 2\u001b[0;31m     \u001b[0;32mreturn\u001b[0m \u001b[0minfi\u001b[0m\u001b[0;34m(\u001b[0m\u001b[0;34m)\u001b[0m\u001b[0;34m\u001b[0m\u001b[0m\n\u001b[0m",
      "... last 1 frames repeated, from the frame below ...\n",
      "\u001b[0;32m<ipython-input-44-3c82d2529aac>\u001b[0m in \u001b[0;36minfi\u001b[0;34m()\u001b[0m\n\u001b[1;32m      1\u001b[0m \u001b[0;32mdef\u001b[0m \u001b[0minfi\u001b[0m\u001b[0;34m(\u001b[0m\u001b[0;34m)\u001b[0m\u001b[0;34m:\u001b[0m\u001b[0;34m\u001b[0m\u001b[0m\n\u001b[0;32m----> 2\u001b[0;31m     \u001b[0;32mreturn\u001b[0m \u001b[0minfi\u001b[0m\u001b[0;34m(\u001b[0m\u001b[0;34m)\u001b[0m\u001b[0;34m\u001b[0m\u001b[0m\n\u001b[0m",
      "\u001b[0;31mRecursionError\u001b[0m: maximum recursion depth exceeded"
     ]
    }
   ],
   "source": [
    "infi()"
   ]
  },
  {
   "cell_type": "markdown",
   "metadata": {},
   "source": [
    "### Back to lists"
   ]
  },
  {
   "cell_type": "code",
   "execution_count": 46,
   "metadata": {},
   "outputs": [],
   "source": [
    "def flatPrint(myList):\n",
    "    for element in myList:\n",
    "        if isinstance(element, list):\n",
    "            flatPrint(element)\n",
    "        else:\n",
    "            print(element)"
   ]
  },
  {
   "cell_type": "code",
   "execution_count": 47,
   "metadata": {},
   "outputs": [
    {
     "name": "stdout",
     "output_type": "stream",
     "text": [
      "100\n",
      "200\n",
      "300\n",
      "1\n",
      "2\n",
      "3\n",
      "10\n",
      "20\n",
      "30\n"
     ]
    }
   ],
   "source": [
    "flatPrint(listC)"
   ]
  },
  {
   "cell_type": "markdown",
   "metadata": {},
   "source": [
    "Let’s look at it line by line.\n",
    "\n",
    "Line 1, as we said, defines the function called flatPrint which expects a list which we’ll call myList.\n",
    "\n",
    "Line 2, says “for each thing that is inside myList, grab it and call it thing.” Once we’re done with thing, the program will jump back to line 2 to get the next thing.\n",
    "\n",
    "Line 3, checks if thing is a list. If so, we do line 4. If not we jump to line 5.\n",
    "\n",
    "Line 4: This is where the magic happens. We know now that thing is a list. So how do we print a list (which might have other lists inside of it)? We use flatPrint! In essence flatPrint uses its own power of discerning between lists and numbers to print any internal lists. We call functions that use (“call”) themselves recursive functions and the process of using recursive functions is called recursion. It’s a powerful tool and one we’ll use in music21 a lot.\n",
    "\n",
    "Line 5, is where we jump to from line 3 if thing is not a list, so then Python executes line 6\n",
    "\n",
    "Line 6, simply prints thing, which we know by now is a number."
   ]
  }
 ],
 "metadata": {
  "kernelspec": {
   "display_name": "Python 3",
   "language": "python",
   "name": "python3"
  },
  "language_info": {
   "codemirror_mode": {
    "name": "ipython",
    "version": 3
   },
   "file_extension": ".py",
   "mimetype": "text/x-python",
   "name": "python",
   "nbconvert_exporter": "python",
   "pygments_lexer": "ipython3",
   "version": "3.5.2"
  }
 },
 "nbformat": 4,
 "nbformat_minor": 4
}
