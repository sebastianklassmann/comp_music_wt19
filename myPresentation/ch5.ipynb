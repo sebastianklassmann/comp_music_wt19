{
 "cells": [
  {
   "cell_type": "markdown",
   "metadata": {},
   "source": [
    "# Chapter 5\n",
    "\n",
    "Putting Stream objects into other Stream objects can be useful to model certain problems or musical structures, but will lead to complications, when accessing elements of objects in higher levels of the created object chain."
   ]
  },
  {
   "cell_type": "markdown",
   "metadata": {},
   "source": [
    "We now want to take a closer look at these so called 'nested' Structures and how to work with them."
   ]
  },
  {
   "cell_type": "markdown",
   "metadata": {},
   "source": [
    "## Lists of Lists"
   ]
  },
  {
   "cell_type": "markdown",
   "metadata": {},
   "source": [
    "The basic general container for all kinds of objects, that we already know is the list.\n",
    "Lets start with two of these:"
   ]
  },
  {
   "cell_type": "code",
   "execution_count": 26,
   "metadata": {},
   "outputs": [],
   "source": [
    "listA = [10,20,30]\n",
    "listB = [1,2,3, listA]"
   ]
  },
  {
   "cell_type": "markdown",
   "metadata": {},
   "source": [
    "Short repetition of basic features:"
   ]
  },
  {
   "cell_type": "code",
   "execution_count": 27,
   "metadata": {},
   "outputs": [
    {
     "name": "stdout",
     "output_type": "stream",
     "text": [
      "----------Basic Features----------\n",
      "\n",
      "listB: [1, 2, 3, [10, 20, 30]]\n",
      "\n",
      "len(listB): 4\n",
      "\n",
      "listB[3] [10, 20, 30]\n",
      "\n",
      "listB[3] is listA: True\n",
      "\n",
      "listA[2]: 30\n",
      "----------------------------------\n"
     ]
    }
   ],
   "source": [
    "#\n",
    "print('----------Basic Features----------')\n",
    "print()\n",
    "print('listB:',listB)\n",
    "print()\n",
    "print('len(listB):',len(listB))\n",
    "print()\n",
    "print('listB[3]', listB[3])\n",
    "print()\n",
    "print('listB[3] is listA:', listB[3] is listA) \n",
    "print()\n",
    "print('listA[2]:', listA[2])\n",
    "print('----------------------------------')"
   ]
  },
  {
   "cell_type": "markdown",
   "metadata": {},
   "source": [
    "With the above code we accessed our elements through the one dimension of either listA's or listB's indices. "
   ]
  },
  {
   "cell_type": "markdown",
   "metadata": {},
   "source": [
    "Now since listA is contained in listB, we can access listA's elements through listB:"
   ]
  },
  {
   "cell_type": "code",
   "execution_count": 28,
   "metadata": {},
   "outputs": [
    {
     "name": "stdout",
     "output_type": "stream",
     "text": [
      "listA[2]: 30\n"
     ]
    }
   ],
   "source": [
    "print('listA[2]:', listB[3][2])"
   ]
  },
  {
   "cell_type": "markdown",
   "metadata": {},
   "source": [
    "Now we took acces through two dimensions. The first dimension were listB's indices, the second one listA's. "
   ]
  },
  {
   "cell_type": "markdown",
   "metadata": {},
   "source": [
    "## First problem\n",
    "How can we access every SINGLE element in our nested list?"
   ]
  },
  {
   "cell_type": "code",
   "execution_count": 29,
   "metadata": {},
   "outputs": [
    {
     "name": "stdout",
     "output_type": "stream",
     "text": [
      "1\n",
      "2\n",
      "3\n",
      "[10, 20, 30]\n"
     ]
    }
   ],
   "source": [
    "for number in listB:\n",
    "    print(number)"
   ]
  },
  {
   "cell_type": "markdown",
   "metadata": {},
   "source": [
    "Note that 'number' isn't really a NUMBER, but an ELEMENT in listB. So, as seen above, the fouth iteration will print a whole list. "
   ]
  },
  {
   "cell_type": "markdown",
   "metadata": {},
   "source": [
    "### Solution"
   ]
  },
  {
   "cell_type": "code",
   "execution_count": null,
   "metadata": {},
   "outputs": [],
   "source": [
    "for element in listB:\n",
    "    if isinstance(element, list):\n",
    "        for number in thing:\n",
    "            print(number)\n",
    "    else:\n",
    "        print(element)"
   ]
  },
  {
   "cell_type": "markdown",
   "metadata": {},
   "source": [
    "### How does it work?"
   ]
  },
  {
   "cell_type": "markdown",
   "metadata": {},
   "source": [
    "**Line 1** iterates through the elements of listB.\n",
    "Note that it is in fact the same command as: \\\n",
    "'for element in listB:'\n"
   ]
  },
  {
   "cell_type": "markdown",
   "metadata": {},
   "source": [
    "**Line 2** calls the *built-in function* **insinstance()** to make a decision. \n",
    "\n",
    "From the Python documentation: \\\n",
    "**isinstance(*object*, *classinfo*)** \\\n",
    "Return **true** if the *object* argument is an instance of the *classinfo* argument, or of a (direct, indirect or virtual) subclass thereof. If object is not an object of the given type, the function always returns **false**. If *classinfo* is a tuple of type objects (or recursively, other such tuples), return true if *object* is an instance of any of the types. If *classinfo* is not a type or tuple of types and such tuples, a TypeError exception is raised."
   ]
  },
  {
   "cell_type": "markdown",
   "metadata": {},
   "source": [
    "If line 2 found *element* to be a list object, **Line 3** and **Line 4** will execute a second loop, that is a generic 'Print-Every-Element-Of-List'-loop. "
   ]
  },
  {
   "cell_type": "markdown",
   "metadata": {},
   "source": [
    "If line 2 didn't find *element* to be a list object, **Line 5** and **Line 6** will turn the first loop into a print-loop."
   ]
  },
  {
   "cell_type": "markdown",
   "metadata": {},
   "source": [
    "## Second Problem\n",
    "\n",
    "*What if...*"
   ]
  },
  {
   "cell_type": "code",
   "execution_count": null,
   "metadata": {},
   "outputs": [],
   "source": [
    "listC = [100, 200, 300, listB]\n",
    "listC"
   ]
  },
  {
   "cell_type": "markdown",
   "metadata": {},
   "source": [
    "*If we use the above idea...*"
   ]
  },
  {
   "cell_type": "code",
   "execution_count": null,
   "metadata": {},
   "outputs": [],
   "source": [
    "for thing in listC:\n",
    "    if isinstance(thing, list):\n",
    "        for innerThing in thing:\n",
    "            if isinstance(innerThing, list):\n",
    "                for number in innerThing:\n",
    "                    print(number)\n",
    "            else:\n",
    "                print(innerThing)\n",
    "    else:\n",
    "        print(thing)"
   ]
  },
  {
   "cell_type": "markdown",
   "metadata": {},
   "source": [
    "**NOW WHAT IF...**"
   ]
  },
  {
   "cell_type": "code",
   "execution_count": null,
   "metadata": {},
   "outputs": [],
   "source": [
    "listD = [4,5,listC,6,7]\n",
    "listE = [8,9,listD]\n",
    "listE"
   ]
  },
  {
   "cell_type": "markdown",
   "metadata": {},
   "source": [
    "To visualize the depth of our structure lets try to access an element of listA through lists B,C,D and E."
   ]
  },
  {
   "cell_type": "code",
   "execution_count": null,
   "metadata": {},
   "outputs": [],
   "source": [
    "print(listE[2][2][3][3][2])"
   ]
  },
  {
   "cell_type": "markdown",
   "metadata": {},
   "source": [
    "We arrived at a 5th level of nesting and would thus need 5 loops for a full iteration. "
   ]
  },
  {
   "cell_type": "markdown",
   "metadata": {},
   "source": [
    "### Solution"
   ]
  },
  {
   "cell_type": "markdown",
   "metadata": {},
   "source": [
    "If look at our bloated loop structure again, we can observer a useful pattern:"
   ]
  },
  {
   "cell_type": "code",
   "execution_count": 38,
   "metadata": {},
   "outputs": [
    {
     "name": "stdout",
     "output_type": "stream",
     "text": [
      "100\n",
      "200\n",
      "300\n",
      "1\n",
      "2\n",
      "3\n",
      "10\n",
      "20\n",
      "30\n"
     ]
    }
   ],
   "source": [
    "for thing in listC:\n",
    "    if isinstance(thing, list):\n",
    "        for innerThing in thing:\n",
    "            if isinstance(innerThing, list):\n",
    "                for number in innerThing:\n",
    "                    print(number)\n",
    "            else:\n",
    "                print(innerThing)\n",
    "    else:\n",
    "        print(thing)"
   ]
  },
  {
   "cell_type": "markdown",
   "metadata": {},
   "source": [
    "For each level of depth in our nested list, we another *'if isinstance()...'* branching."
   ]
  },
  {
   "cell_type": "code",
   "execution_count": null,
   "metadata": {},
   "outputs": [],
   "source": []
  }
 ],
 "metadata": {
  "kernelspec": {
   "display_name": "Python 3",
   "language": "python",
   "name": "python3"
  },
  "language_info": {
   "codemirror_mode": {
    "name": "ipython",
    "version": 3
   },
   "file_extension": ".py",
   "mimetype": "text/x-python",
   "name": "python",
   "nbconvert_exporter": "python",
   "pygments_lexer": "ipython3",
   "version": "3.5.2"
  }
 },
 "nbformat": 4,
 "nbformat_minor": 4
}
