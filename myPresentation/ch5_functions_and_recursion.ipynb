{
 "cells": [
  {
   "cell_type": "markdown",
   "metadata": {},
   "source": [
    "# Excursion: Functions"
   ]
  },
  {
   "cell_type": "code",
   "execution_count": 51,
   "metadata": {},
   "outputs": [
    {
     "name": "stdout",
     "output_type": "stream",
     "text": [
      "Hello World!\n",
      "Hello World!\n",
      "Hello World!\n",
      "Hello World!\n"
     ]
    }
   ],
   "source": [
    "# function definition\n",
    "def helloWorld(number):        # head\n",
    "    for i in range(number):    # body \n",
    "        print('Hello World!')  # body\n",
    "    \n",
    "# function call    \n",
    "helloWorld(4)               "
   ]
  },
  {
   "cell_type": "markdown",
   "metadata": {},
   "source": [
    "Lets look at the first line of the above code: \\\n",
    "**def** ***helloWorld***(*number*):"
   ]
  },
  {
   "cell_type": "markdown",
   "metadata": {},
   "source": [
    "The **def** statement means that we want to 'define' a new function. \n",
    "\n",
    "***helloWorld*** is the name for our function under which we can call it later on. It can be any name, but basically the same guidelines as for variable names can be applied. For example built-in funtion names should be avoided. \n",
    "\n",
    "The expression in the brackets is the *argument* that is passed to the function. In our case it is *number*. Inside the function it works as a (local) variable, which contains an object that gets passed into the function when you call it. You can use it in the functions body, but not outside of it. \\\n",
    "Also a function can have several input arguments (or none at all) of arbitrary types, it might even be another function."
   ]
  },
  {
   "cell_type": "code",
   "execution_count": 52,
   "metadata": {},
   "outputs": [
    {
     "name": "stdout",
     "output_type": "stream",
     "text": [
      "11\n"
     ]
    }
   ],
   "source": [
    "def myFunction(a,b): # example for a bad name!\n",
    "    print(a+b)\n",
    "    \n",
    "number1 = 5\n",
    "number2 = 6\n",
    "\n",
    "myFunction(number1,number2)"
   ]
  },
  {
   "cell_type": "code",
   "execution_count": 53,
   "metadata": {},
   "outputs": [
    {
     "name": "stdout",
     "output_type": "stream",
     "text": [
      "5\n"
     ]
    }
   ],
   "source": [
    "print(number1)\n"
   ]
  },
  {
   "cell_type": "code",
   "execution_count": 54,
   "metadata": {},
   "outputs": [
    {
     "ename": "NameError",
     "evalue": "name 'a' is not defined",
     "output_type": "error",
     "traceback": [
      "\u001b[0;31m---------------------------------------------------------------------------\u001b[0m",
      "\u001b[0;31mNameError\u001b[0m                                 Traceback (most recent call last)",
      "\u001b[0;32m<ipython-input-54-bca0e2660b9f>\u001b[0m in \u001b[0;36m<module>\u001b[0;34m()\u001b[0m\n\u001b[0;32m----> 1\u001b[0;31m \u001b[0mprint\u001b[0m\u001b[0;34m(\u001b[0m\u001b[0ma\u001b[0m\u001b[0;34m)\u001b[0m\u001b[0;34m\u001b[0m\u001b[0m\n\u001b[0m",
      "\u001b[0;31mNameError\u001b[0m: name 'a' is not defined"
     ]
    }
   ],
   "source": [
    "print(a)"
   ]
  },
  {
   "cell_type": "markdown",
   "metadata": {},
   "source": [
    "### **return**"
   ]
  },
  {
   "cell_type": "markdown",
   "metadata": {},
   "source": [
    "Now our last observation could lead us to further question: \\\n",
    "*What if we want to use the result of the functions processing outside of the function and not just print it?* \\\n",
    "Since we can give the function some input, we can also tell it to **return** some output to us"
   ]
  },
  {
   "cell_type": "code",
   "execution_count": 55,
   "metadata": {},
   "outputs": [],
   "source": [
    "# Several examples of functions\n",
    "def add1(a,b):\n",
    "    c = a+b\n",
    "    return c\n",
    "\n",
    "def add2(a,b):\n",
    "    return a+b\n",
    "\n",
    "def add3(a,b):\n",
    "    print(a+b)\n",
    "    return a+b    "
   ]
  },
  {
   "cell_type": "code",
   "execution_count": 56,
   "metadata": {},
   "outputs": [
    {
     "name": "stdout",
     "output_type": "stream",
     "text": [
      "11\n",
      "\n",
      "11\n"
     ]
    }
   ],
   "source": [
    "# Several calls of the above functions\n",
    "number1 = 5\n",
    "number2 = 6\n",
    "\n",
    "number3 = add1(number1,number2)\n",
    "print(number3)\n",
    "print()\n",
    "print(add1(number1,number2))\n"
   ]
  },
  {
   "cell_type": "code",
   "execution_count": 57,
   "metadata": {},
   "outputs": [
    {
     "name": "stdout",
     "output_type": "stream",
     "text": [
      "11\n",
      "\n",
      "11\n"
     ]
    }
   ],
   "source": [
    "number1 = 5\n",
    "number2 = 6\n",
    "\n",
    "number3 = add2(number1,number2)\n",
    "print(number3)\n",
    "print()\n",
    "print(add2(number1,number2))"
   ]
  },
  {
   "cell_type": "code",
   "execution_count": 58,
   "metadata": {},
   "outputs": [
    {
     "name": "stdout",
     "output_type": "stream",
     "text": [
      "11\n",
      "11\n",
      "\n",
      "11\n",
      "11\n"
     ]
    }
   ],
   "source": [
    "number1 = 5\n",
    "number2 = 6\n",
    "\n",
    "number3 = add3(number1,number2)\n",
    "print(number3)\n",
    "print()\n",
    "print(add3(number1,number2))"
   ]
  },
  {
   "cell_type": "markdown",
   "metadata": {},
   "source": [
    "### Recursion"
   ]
  },
  {
   "cell_type": "markdown",
   "metadata": {},
   "source": [
    "Since, in a functions body, we are free to do whatever we want, we can also call other functions."
   ]
  },
  {
   "cell_type": "code",
   "execution_count": 59,
   "metadata": {},
   "outputs": [
    {
     "name": "stdout",
     "output_type": "stream",
     "text": [
      "1\n",
      "\n",
      "2\n"
     ]
    }
   ],
   "source": [
    "def increaseByOne(a):\n",
    "    e = add1(a,1)\n",
    "    return e\n",
    "number1 = 1\n",
    "print(number1)\n",
    "print()\n",
    "print(increaseByOne(number1))"
   ]
  },
  {
   "cell_type": "markdown",
   "metadata": {},
   "source": [
    "And we can also call the function itself and create a *recursion*. "
   ]
  },
  {
   "cell_type": "code",
   "execution_count": 60,
   "metadata": {},
   "outputs": [
    {
     "name": "stdout",
     "output_type": "stream",
     "text": [
      "1\n",
      "2\n",
      "4\n",
      "8\n",
      "16\n",
      "32\n"
     ]
    }
   ],
   "source": [
    "# function for natural powers\n",
    "# n < 0 not allowed!\n",
    "def power_n(number,n):\n",
    "    if (n==0):\n",
    "        return 1\n",
    "    else:\n",
    "        return number*power_n(number,n-1)\n",
    "    \n",
    "number1 = 2\n",
    "\n",
    "print(power_n(number1,0))  \n",
    "print(power_n(number1,1))  \n",
    "print(power_n(number1,2))  \n",
    "print(power_n(number1,3))\n",
    "print(power_n(number1,4))   \n",
    "print(power_n(number1,5))  "
   ]
  },
  {
   "cell_type": "markdown",
   "metadata": {},
   "source": [
    "Why use the if-branching? \\\n",
    "It is our termination criterion and **VITAL** to our function, because without it, the function wouldn't terminate and call itself forever:"
   ]
  },
  {
   "cell_type": "code",
   "execution_count": 61,
   "metadata": {},
   "outputs": [],
   "source": [
    "def infi():\n",
    "    return infi()"
   ]
  },
  {
   "cell_type": "code",
   "execution_count": 62,
   "metadata": {},
   "outputs": [
    {
     "ename": "RecursionError",
     "evalue": "maximum recursion depth exceeded",
     "output_type": "error",
     "traceback": [
      "\u001b[0;31m---------------------------------------------------------------------------\u001b[0m",
      "\u001b[0;31mRecursionError\u001b[0m                            Traceback (most recent call last)",
      "\u001b[0;32m<ipython-input-62-7ae3c2d3c94c>\u001b[0m in \u001b[0;36m<module>\u001b[0;34m()\u001b[0m\n\u001b[0;32m----> 1\u001b[0;31m \u001b[0minfi\u001b[0m\u001b[0;34m(\u001b[0m\u001b[0;34m)\u001b[0m\u001b[0;34m\u001b[0m\u001b[0m\n\u001b[0m",
      "\u001b[0;32m<ipython-input-61-3c82d2529aac>\u001b[0m in \u001b[0;36minfi\u001b[0;34m()\u001b[0m\n\u001b[1;32m      1\u001b[0m \u001b[0;32mdef\u001b[0m \u001b[0minfi\u001b[0m\u001b[0;34m(\u001b[0m\u001b[0;34m)\u001b[0m\u001b[0;34m:\u001b[0m\u001b[0;34m\u001b[0m\u001b[0m\n\u001b[0;32m----> 2\u001b[0;31m     \u001b[0;32mreturn\u001b[0m \u001b[0minfi\u001b[0m\u001b[0;34m(\u001b[0m\u001b[0;34m)\u001b[0m\u001b[0;34m\u001b[0m\u001b[0m\n\u001b[0m",
      "... last 1 frames repeated, from the frame below ...\n",
      "\u001b[0;32m<ipython-input-61-3c82d2529aac>\u001b[0m in \u001b[0;36minfi\u001b[0;34m()\u001b[0m\n\u001b[1;32m      1\u001b[0m \u001b[0;32mdef\u001b[0m \u001b[0minfi\u001b[0m\u001b[0;34m(\u001b[0m\u001b[0;34m)\u001b[0m\u001b[0;34m:\u001b[0m\u001b[0;34m\u001b[0m\u001b[0m\n\u001b[0;32m----> 2\u001b[0;31m     \u001b[0;32mreturn\u001b[0m \u001b[0minfi\u001b[0m\u001b[0;34m(\u001b[0m\u001b[0;34m)\u001b[0m\u001b[0;34m\u001b[0m\u001b[0m\n\u001b[0m",
      "\u001b[0;31mRecursionError\u001b[0m: maximum recursion depth exceeded"
     ]
    }
   ],
   "source": [
    "infi()"
   ]
  }
 ],
 "metadata": {
  "kernelspec": {
   "display_name": "Python 3",
   "language": "python",
   "name": "python3"
  },
  "language_info": {
   "codemirror_mode": {
    "name": "ipython",
    "version": 3
   },
   "file_extension": ".py",
   "mimetype": "text/x-python",
   "name": "python",
   "nbconvert_exporter": "python",
   "pygments_lexer": "ipython3",
   "version": "3.5.2"
  }
 },
 "nbformat": 4,
 "nbformat_minor": 4
}
