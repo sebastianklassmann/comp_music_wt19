{
 "cells": [
  {
   "cell_type": "markdown",
   "metadata": {},
   "source": [
    "# Tonality Inference I : representing musical material as bags of notes"
   ]
  },
  {
   "cell_type": "markdown",
   "metadata": {},
   "source": [
    "-----"
   ]
  },
  {
   "cell_type": "markdown",
   "metadata": {},
   "source": [
    "**Bag of notes Modell (programming task A):**\n",
    "\n",
    "1. Import a piece from the music 21 corpus\n",
    "2. Design a function that accomplishes the following:  \n",
    "* Create a list of pitch classes\t\n",
    "* Create a 12 - position input vector representing the frequency of occurrence for any individual pitch class in the stream\n",
    "* Use Matplotlib to plot the number of occurrence of individual pitch classes."
   ]
  },
  {
   "cell_type": "markdown",
   "metadata": {},
   "source": [
    "------"
   ]
  },
  {
   "cell_type": "markdown",
   "metadata": {},
   "source": [
    "**Note pairs Modell (programming task B):**\n",
    "\n",
    "1. Import a stream from the music 21 corpus\n",
    "2. Design a function that accomplishes the following: \n",
    "* Filter the given stream for note.Note() objects.\n",
    "* Create a list of pitch class pairs in given stream.\n",
    "* Count the number of occurrence of individual note pairs and store them in a suitable data type. A workable suggestion would be to create a dictionary. If you haven’t heard about dictionaries, do some research now.\n",
    "* Use Matplotlib to plot the number of occurrence of individual note pairs in the given stream."
   ]
  },
  {
   "cell_type": "markdown",
   "metadata": {},
   "source": [
    "------"
   ]
  },
  {
   "cell_type": "markdown",
   "metadata": {},
   "source": [
    "**Chord pairs Modell (programming task C):**\n",
    "\n",
    "1. Import a stream from the music 21 corpus\n",
    "2. Design a function that accomplishes the following: \n",
    "* Chordify a given music21 stream.\n",
    "* Filter the given stream for music21 chord objects.\n",
    "* Create a list of chord pairs in given stream.\n",
    "* Count the number of occurrence of individual chord pairs and store them in a suitable data type. A workable suggestion would be to create a dictionary. If you haven’t heard about dictionaries, do some research now.\n",
    "* Use Matplotlib to plot the number of occurrence of individual chord pairs in the given stream."
   ]
  }
 ],
 "metadata": {
  "kernelspec": {
   "display_name": "Python (TensorFlow2)",
   "language": "python",
   "name": "tensortest"
  },
  "language_info": {
   "codemirror_mode": {
    "name": "ipython",
    "version": 3
   },
   "file_extension": ".py",
   "mimetype": "text/x-python",
   "name": "python",
   "nbconvert_exporter": "python",
   "pygments_lexer": "ipython3",
   "version": "3.7.5"
  }
 },
 "nbformat": 4,
 "nbformat_minor": 4
}
