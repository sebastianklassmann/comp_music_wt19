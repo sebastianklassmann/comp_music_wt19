{
 "cells": [
  {
   "cell_type": "markdown",
   "metadata": {},
   "source": [
    "# Vector and matrix operations\n",
    "## Version: Python\n",
    "\n",
    "This notebook provides you with a basic understanding of vector and matrix operations based on Anderson 2014, chapter 9. Also, you will see how to implement the operations in Python.\n",
    "You will have to make use of this knowledge when it comes to programming a simple perceptron.\n",
    "\n",
    "Packages required: NumPy\n",
    "\n",
    "Author: timo.varelmann@uni-koeln.de\n",
    "Python translation, review: sebastian.klassmann@gmail.com\n",
    "\n",
    "Date: 13.07.2018\n",
    "Date of translation: 15.07.2018\n",
    "Review: 09.12.2019"
   ]
  },
  {
   "cell_type": "markdown",
   "metadata": {},
   "source": [
    "### Vector\n",
    "\n",
    "We differentiate between a (columnar) vector\n",
    "\n",
    "$\\vec{v} = \\begin{bmatrix}1 \\\\ 2 \\\\ 3 \\end{bmatrix}$\n",
    "\n",
    "and a row vector that arises from transposing a columnar vector:\n",
    "\n",
    "$\\vec{v}^T = \\begin{bmatrix}1 & 2 & 3 \\end{bmatrix}$\n",
    "\n",
    "Transposed vector $\\vec{v}^T$ results from exchanging rows with columns."
   ]
  },
  {
   "cell_type": "markdown",
   "metadata": {},
   "source": [
    "##### Python Implementation\n",
    "In Python, a vector is a single entity consisting of an ordered collection of elements. It's the most common form of a one-dimensional *array*. \n",
    "First, we need a library called *numpy*, which is maintained along with other scientific libraries by the scipy project. We will import it first."
   ]
  },
  {
   "cell_type": "code",
   "execution_count": 1,
   "metadata": {},
   "outputs": [],
   "source": [
    "import numpy as np"
   ]
  },
  {
   "cell_type": "markdown",
   "metadata": {},
   "source": [
    "The first way to create a vector (aka., a one-dimensional array) in Python is the following statement that creates an empty array called *v* and adds the specified list of items to it."
   ]
  },
  {
   "cell_type": "code",
   "execution_count": 132,
   "metadata": {},
   "outputs": [
    {
     "name": "stdout",
     "output_type": "stream",
     "text": [
      "[1 2 3]\n"
     ]
    }
   ],
   "source": [
    "v = np.array([1, 2, 3]) \n",
    "# note the brackets! we are creating an array and then putting an ordered list of items of the same data type!\n",
    "print(v)"
   ]
  },
  {
   "cell_type": "markdown",
   "metadata": {},
   "source": [
    "Please note: this is still one-dimensional and numpy's very own transposition method will not make obvious changes to v. If we want to purposefully include a transposable vector, we need to technically make it a 2D-array. This can be achieved by adding another set of square brackets to the original variable declaration:"
   ]
  },
  {
   "cell_type": "code",
   "execution_count": 135,
   "metadata": {},
   "outputs": [
    {
     "name": "stdout",
     "output_type": "stream",
     "text": [
      "[[1 2 3]]\n"
     ]
    }
   ],
   "source": [
    "v2d = np.array([[1,2,3]])\n",
    "print(v2d)"
   ]
  },
  {
   "cell_type": "markdown",
   "metadata": {},
   "source": [
    "Transposing vector $\\vec{v}$ can be done by using v2t = v2d.T."
   ]
  },
  {
   "cell_type": "code",
   "execution_count": 136,
   "metadata": {},
   "outputs": [
    {
     "name": "stdout",
     "output_type": "stream",
     "text": [
      "[[1]\n",
      " [2]\n",
      " [3]]\n"
     ]
    }
   ],
   "source": [
    "v2t = v2d.T\n",
    "print(v2t)"
   ]
  },
  {
   "cell_type": "markdown",
   "metadata": {},
   "source": [
    "In fact, the object v2d is now equivalent to a matrix with a number of rows = 1."
   ]
  },
  {
   "cell_type": "code",
   "execution_count": 137,
   "metadata": {},
   "outputs": [
    {
     "data": {
      "text/plain": [
       "numpy.ndarray"
      ]
     },
     "execution_count": 137,
     "metadata": {},
     "output_type": "execute_result"
    }
   ],
   "source": [
    "type(v2t) # --> returns that v2t is a multidimensional array."
   ]
  },
  {
   "cell_type": "markdown",
   "metadata": {},
   "source": [
    "Compared to R, it is once again important to note that the basic data type for handling matrix and vector calculations in Python/Numpy is that of an **array** with 1 or 2 dimensions! We will introduce a simpler method (np.matrix) for creating both vectors and matrices below. However, for the time being, we will also try out the unspecific np.array() to clarify a couple of problems along the way."
   ]
  },
  {
   "cell_type": "markdown",
   "metadata": {},
   "source": [
    "### Matrix\n",
    "\n",
    "Anderson (2014, p. 69) introduces matrices as collections of columnar vectors, aligned side by side. \n",
    "\n",
    "Matrix\n",
    "\n",
    "$M = \\begin{bmatrix}1 & 4 \\\\ 2 & 5 \\\\ 3 & 6 \\end{bmatrix}$\n",
    "\n",
    "can also be transformed by exchanging rows with columns:\n",
    "\n",
    "$M^T = \\begin{bmatrix}1 & 2 & 3 \\\\ 4 & 5 & 6 \\end{bmatrix}$\n"
   ]
  },
  {
   "cell_type": "markdown",
   "metadata": {},
   "source": [
    "##### Python Implementation\n",
    "\n",
    "If we want to create a matrix as an ordered *stack* of vectors, in Python, there is 2 methods to do so: vstack (stacking vertically) and hstack (horizontally):"
   ]
  },
  {
   "cell_type": "code",
   "execution_count": 138,
   "metadata": {},
   "outputs": [
    {
     "name": "stdout",
     "output_type": "stream",
     "text": [
      "[[1 2 3]]\n",
      "[[4 5 6]]\n"
     ]
    }
   ],
   "source": [
    "a = np.array([np.arange(1, 4)]) # note that this is similar to the seq-method in R!\n",
    "b = np.array([np.arange(4, 7)]) # this changes it up, by starting from 1 and counting up to the 7th index (4).\n",
    "# Python always counts from 0!\n",
    "\n",
    "print(a)\n",
    "print(b)"
   ]
  },
  {
   "cell_type": "markdown",
   "metadata": {},
   "source": [
    "In order to stack a and b, we need to put them inside a list first:"
   ]
  },
  {
   "cell_type": "code",
   "execution_count": 139,
   "metadata": {},
   "outputs": [
    {
     "name": "stdout",
     "output_type": "stream",
     "text": [
      "[array([[1, 2, 3]]), array([[4, 5, 6]])]\n"
     ]
    }
   ],
   "source": [
    "c = [a, b]\n",
    "print(c)"
   ]
  },
  {
   "cell_type": "code",
   "execution_count": 140,
   "metadata": {},
   "outputs": [
    {
     "name": "stdout",
     "output_type": "stream",
     "text": [
      "[[1 2 3]\n",
      " [4 5 6]]\n"
     ]
    }
   ],
   "source": [
    "vM = np.vstack(c)\n",
    "print(vM)"
   ]
  },
  {
   "cell_type": "code",
   "execution_count": 141,
   "metadata": {},
   "outputs": [
    {
     "name": "stdout",
     "output_type": "stream",
     "text": [
      "[[1 2 3 4 5 6]]\n"
     ]
    }
   ],
   "source": [
    "hM = np.hstack(c)\n",
    "print(hM)"
   ]
  },
  {
   "cell_type": "markdown",
   "metadata": {},
   "source": [
    "what happened here? in fact, the brackets matter! :-)\n",
    "compare this result to the following:"
   ]
  },
  {
   "cell_type": "code",
   "execution_count": 144,
   "metadata": {},
   "outputs": [
    {
     "name": "stdout",
     "output_type": "stream",
     "text": [
      "[[1]\n",
      " [2]\n",
      " [3]]\n",
      "...\n",
      "[[4]\n",
      " [5]\n",
      " [6]]\n"
     ]
    }
   ],
   "source": [
    "a2 = np.array([[1], [2], [3]])\n",
    "b2 = np.array([[4],[5], [6]])\n",
    "print(a2)\n",
    "print(\"...\")\n",
    "print(b2)"
   ]
  },
  {
   "cell_type": "code",
   "execution_count": 145,
   "metadata": {},
   "outputs": [
    {
     "name": "stdout",
     "output_type": "stream",
     "text": [
      "transposed a2: [[1 2 3]]\n",
      "transposed b2: [[4 5 6]]\n"
     ]
    }
   ],
   "source": [
    "# to be concise please consider the way these arrays can be transposed:\n",
    "a2T = a2.T\n",
    "b2T = b2.T\n",
    "print(\"transposed a2:\", a2T)\n",
    "print(\"transposed b2:\", b2T)"
   ]
  },
  {
   "cell_type": "code",
   "execution_count": 146,
   "metadata": {},
   "outputs": [
    {
     "name": "stdout",
     "output_type": "stream",
     "text": [
      "[[1 4]\n",
      " [2 5]\n",
      " [3 6]]\n"
     ]
    }
   ],
   "source": [
    "c2 = np.hstack((a2, b2)) # --> Python also accepts c2 = np.hstack([a2, b2]) here!\n",
    "print(c2)"
   ]
  },
  {
   "cell_type": "code",
   "execution_count": 147,
   "metadata": {},
   "outputs": [
    {
     "name": "stdout",
     "output_type": "stream",
     "text": [
      "[[1 2 3]\n",
      " [4 5 6]]\n"
     ]
    }
   ],
   "source": [
    "d = np.vstack((a2T, b2T))\n",
    "print(d)\n",
    "# this is actually very much like the first example given for the vstack method."
   ]
  },
  {
   "cell_type": "markdown",
   "metadata": {},
   "source": [
    "An alternative way to create matrices in Python is to use numpy.matrix():"
   ]
  },
  {
   "cell_type": "code",
   "execution_count": 149,
   "metadata": {},
   "outputs": [
    {
     "name": "stdout",
     "output_type": "stream",
     "text": [
      "[[1 2]\n",
      " [3 4]]\n"
     ]
    }
   ],
   "source": [
    "M1 = np.matrix('1 2; 3 4')\n",
    "M2 = np.matrix('5 6; 7 8')\n",
    "# this creates two matrices.\n",
    "print(M1)"
   ]
  },
  {
   "cell_type": "markdown",
   "metadata": {},
   "source": [
    "Like vectors, you can transform matrices by using function .T. $M^T$ will result from:"
   ]
  },
  {
   "cell_type": "code",
   "execution_count": 150,
   "metadata": {},
   "outputs": [
    {
     "name": "stdout",
     "output_type": "stream",
     "text": [
      "[[1 3]\n",
      " [2 4]]\n"
     ]
    }
   ],
   "source": [
    "MT = M1.T\n",
    "print(MT)"
   ]
  },
  {
   "cell_type": "markdown",
   "metadata": {},
   "source": [
    "### Adding Vectors/Matrices\n",
    "\n",
    "When adding vectors or matrices, each term of one vector/matrix is added to the number in the same position of the other vector/matrix. Prerequisite is that vectors / matrices have the same size.\n",
    "\n",
    "Thus:\n",
    "\n",
    "$\\begin{bmatrix}1 \\\\ 2 \\\\ 3 \\end{bmatrix} + \\begin{bmatrix}2 \\\\ 2 \\\\ 2 \\end{bmatrix} = \\begin{bmatrix}3 \\\\ 4 \\\\ 5 \\end{bmatrix}$\n",
    "\n",
    "and \n",
    "\n",
    "$\\begin{bmatrix}1 & 2 \\\\ 3 & 4 \\\\ -4 & 6 \\end{bmatrix} + \\begin{bmatrix}1 & 3 \\\\ 2 & 4 \\\\ -4 & 4\\end{bmatrix} = \\begin{bmatrix}2 & 5 \\\\ 5 & 8 \\\\ -8 & 10 \\end{bmatrix}$\n"
   ]
  },
  {
   "cell_type": "markdown",
   "metadata": {},
   "source": [
    "##### Caution\n",
    "\n",
    "Adding vectors is only possible if $length(\\vec{x}) = length(\\vec{y})$.\n",
    "\n",
    "To perform addition of matrices, number of rows and number of columns must match: $dimension(M) = dimension(N)$"
   ]
  },
  {
   "cell_type": "markdown",
   "metadata": {},
   "source": [
    "<h3> Python Implementation </h3>\n",
    "\n",
    "In Python, simply use the '+'-operator for adding vectors/matrices:"
   ]
  },
  {
   "cell_type": "code",
   "execution_count": 151,
   "metadata": {},
   "outputs": [
    {
     "data": {
      "text/plain": [
       "array([5, 7, 9])"
      ]
     },
     "execution_count": 151,
     "metadata": {},
     "output_type": "execute_result"
    }
   ],
   "source": [
    "np.array([1, 2, 3]) + np.array([4, 5, 6])"
   ]
  },
  {
   "cell_type": "code",
   "execution_count": 154,
   "metadata": {},
   "outputs": [
    {
     "name": "stdout",
     "output_type": "stream",
     "text": [
      "[[ 1  2]\n",
      " [ 3  4]\n",
      " [-4  6]]\n",
      "...\n",
      "[[ 1  3]\n",
      " [ 2  4]\n",
      " [-4  4]]\n"
     ]
    }
   ],
   "source": [
    "mata = np.matrix('1 2; 3 4; -4 6')\n",
    "matb = np.matrix('1 3; 2 4; -4 4')\n",
    "print(mata)\n",
    "print(\"...\")\n",
    "print(matb)"
   ]
  },
  {
   "cell_type": "code",
   "execution_count": 155,
   "metadata": {},
   "outputs": [
    {
     "name": "stdout",
     "output_type": "stream",
     "text": [
      "[[ 2  5]\n",
      " [ 5  8]\n",
      " [-8 10]]\n"
     ]
    }
   ],
   "source": [
    "print(mata + matb)"
   ]
  },
  {
   "cell_type": "markdown",
   "metadata": {},
   "source": [
    "### (Simple) Multiplication\n",
    "\n",
    "For multiplication of vector/matrix by a single number just multiply each element of the vector/matrix with that number:\n",
    "\n",
    "$3 \\cdot \\begin{bmatrix} 2 \\\\ 3 \\\\ 4 \\end{bmatrix} = \\begin{bmatrix} 6 \\\\ 9 \\\\ 12 \\end{bmatrix}$\n",
    "\n",
    "$3 \\cdot \\begin{bmatrix}1 & 2 \\\\ 3 & 4 \\\\ -4 & 6 \\end{bmatrix} = \\begin{bmatrix}3 & 6 \\\\ 9 & 12 \\\\ -12 & 18 \\end{bmatrix}$\n",
    "\n",
    "If you perform a simple multiplication of vectors and matrices having the same sizes, just multiply elements of the same positions:\n",
    "\n",
    "$\\begin{bmatrix}1 & 2 \\\\ 3 & 4 \\\\ -4 & 6 \\end{bmatrix} \\cdot \\begin{bmatrix}1 & 3 \\\\ 2 & 4 \\\\ -4 & 4\\end{bmatrix} = \\begin{bmatrix} 1 & 6 \\\\ 6 & 16 \\\\ 16 & 24 \\end{bmatrix}$"
   ]
  },
  {
   "cell_type": "markdown",
   "metadata": {},
   "source": [
    "<h3> Python Implementation </h3>"
   ]
  },
  {
   "cell_type": "code",
   "execution_count": 156,
   "metadata": {},
   "outputs": [
    {
     "name": "stdout",
     "output_type": "stream",
     "text": [
      "[[ 3  6]\n",
      " [ 9 12]]\n"
     ]
    }
   ],
   "source": [
    "print(3*np.matrix('1 2 ; 3 4'))"
   ]
  },
  {
   "cell_type": "code",
   "execution_count": 157,
   "metadata": {},
   "outputs": [
    {
     "name": "stdout",
     "output_type": "stream",
     "text": [
      "[[  3   6]\n",
      " [  9  12]\n",
      " [-12  18]]\n"
     ]
    }
   ],
   "source": [
    "print(3*mata)"
   ]
  },
  {
   "cell_type": "code",
   "execution_count": 93,
   "metadata": {},
   "outputs": [
    {
     "ename": "ValueError",
     "evalue": "shapes (3,2) and (3,2) not aligned: 2 (dim 1) != 3 (dim 0)",
     "output_type": "error",
     "traceback": [
      "\u001b[0;31m---------------------------------------------------------------------------\u001b[0m",
      "\u001b[0;31mValueError\u001b[0m                                Traceback (most recent call last)",
      "\u001b[0;32m<ipython-input-93-a1940280cb6d>\u001b[0m in \u001b[0;36m<module>\u001b[0;34m()\u001b[0m\n\u001b[0;32m----> 1\u001b[0;31m \u001b[0mprint\u001b[0m\u001b[0;34m(\u001b[0m\u001b[0mmata\u001b[0m \u001b[0;34m*\u001b[0m \u001b[0mmatb\u001b[0m\u001b[0;34m)\u001b[0m \u001b[0;31m# will not work in Python, as the shape of the two matrices above is not aligned, see:\u001b[0m\u001b[0;34m\u001b[0m\u001b[0m\n\u001b[0m",
      "\u001b[0;32m/usr/local/lib/python3.5/dist-packages/numpy/matrixlib/defmatrix.py\u001b[0m in \u001b[0;36m__mul__\u001b[0;34m(self, other)\u001b[0m\n\u001b[1;32m    307\u001b[0m         \u001b[0;32mif\u001b[0m \u001b[0misinstance\u001b[0m\u001b[0;34m(\u001b[0m\u001b[0mother\u001b[0m\u001b[0;34m,\u001b[0m \u001b[0;34m(\u001b[0m\u001b[0mN\u001b[0m\u001b[0;34m.\u001b[0m\u001b[0mndarray\u001b[0m\u001b[0;34m,\u001b[0m \u001b[0mlist\u001b[0m\u001b[0;34m,\u001b[0m \u001b[0mtuple\u001b[0m\u001b[0;34m)\u001b[0m\u001b[0;34m)\u001b[0m \u001b[0;34m:\u001b[0m\u001b[0;34m\u001b[0m\u001b[0m\n\u001b[1;32m    308\u001b[0m             \u001b[0;31m# This promotes 1-D vectors to row vectors\u001b[0m\u001b[0;34m\u001b[0m\u001b[0;34m\u001b[0m\u001b[0m\n\u001b[0;32m--> 309\u001b[0;31m             \u001b[0;32mreturn\u001b[0m \u001b[0mN\u001b[0m\u001b[0;34m.\u001b[0m\u001b[0mdot\u001b[0m\u001b[0;34m(\u001b[0m\u001b[0mself\u001b[0m\u001b[0;34m,\u001b[0m \u001b[0masmatrix\u001b[0m\u001b[0;34m(\u001b[0m\u001b[0mother\u001b[0m\u001b[0;34m)\u001b[0m\u001b[0;34m)\u001b[0m\u001b[0;34m\u001b[0m\u001b[0m\n\u001b[0m\u001b[1;32m    310\u001b[0m         \u001b[0;32mif\u001b[0m \u001b[0misscalar\u001b[0m\u001b[0;34m(\u001b[0m\u001b[0mother\u001b[0m\u001b[0;34m)\u001b[0m \u001b[0;32mor\u001b[0m \u001b[0;32mnot\u001b[0m \u001b[0mhasattr\u001b[0m\u001b[0;34m(\u001b[0m\u001b[0mother\u001b[0m\u001b[0;34m,\u001b[0m \u001b[0;34m'__rmul__'\u001b[0m\u001b[0;34m)\u001b[0m \u001b[0;34m:\u001b[0m\u001b[0;34m\u001b[0m\u001b[0m\n\u001b[1;32m    311\u001b[0m             \u001b[0;32mreturn\u001b[0m \u001b[0mN\u001b[0m\u001b[0;34m.\u001b[0m\u001b[0mdot\u001b[0m\u001b[0;34m(\u001b[0m\u001b[0mself\u001b[0m\u001b[0;34m,\u001b[0m \u001b[0mother\u001b[0m\u001b[0;34m)\u001b[0m\u001b[0;34m\u001b[0m\u001b[0m\n",
      "\u001b[0;31mValueError\u001b[0m: shapes (3,2) and (3,2) not aligned: 2 (dim 1) != 3 (dim 0)"
     ]
    }
   ],
   "source": [
    "print(mata * matb) # will not work in Python, as the shape of the two matrices above is not aligned, see:"
   ]
  },
  {
   "cell_type": "markdown",
   "metadata": {},
   "source": [
    "We will discuss this later, when talking about matrix multiplication! Obviously, we could transpose matb to match the shapes of mata and matb:"
   ]
  },
  {
   "cell_type": "code",
   "execution_count": 96,
   "metadata": {},
   "outputs": [
    {
     "name": "stdout",
     "output_type": "stream",
     "text": [
      "[[ 1  2 -4]\n",
      " [ 3  4  4]]\n",
      "[[ 7 10  4]\n",
      " [15 22  4]\n",
      " [14 16 40]]\n"
     ]
    }
   ],
   "source": [
    "matbT = matb.T\n",
    "print(matbT)\n",
    "print(mata * matbT)"
   ]
  },
  {
   "cell_type": "markdown",
   "metadata": {},
   "source": [
    "### Euclidean distance\n",
    "\n",
    "The euclidean distance of a vector is calculated by squaring each vector element, summing those squares together, and taking the square root of that sum:\n",
    "\n",
    "$\\sqrt{\\sum_{i=1}^N{v_i^2}} = \\sqrt{v_1^2 + v_2^2 + ... + v_i^2}$\n",
    "\n",
    "The output is a single metric value.\n",
    "\n",
    "For example, we already defined vector $\\vec{v} = \\begin{bmatrix}1 \\\\ 2 \\\\ 3 \\end{bmatrix}$. Its euclidean distance is $\\sqrt{1^2 + 2^2 + 3^3} = \\sqrt{14}$."
   ]
  },
  {
   "cell_type": "markdown",
   "metadata": {},
   "source": [
    "##### Python Implementation\n",
    "\n",
    "From inside out: we square all elements of v, add them together and take the square root of the resulting sum."
   ]
  },
  {
   "cell_type": "code",
   "execution_count": 158,
   "metadata": {},
   "outputs": [
    {
     "name": "stdout",
     "output_type": "stream",
     "text": [
      "[1 2 3]\n"
     ]
    }
   ],
   "source": [
    "print(v)"
   ]
  },
  {
   "cell_type": "code",
   "execution_count": 159,
   "metadata": {},
   "outputs": [
    {
     "data": {
      "text/plain": [
       "array([1, 4, 9])"
      ]
     },
     "execution_count": 159,
     "metadata": {},
     "output_type": "execute_result"
    }
   ],
   "source": [
    "v ** 2"
   ]
  },
  {
   "cell_type": "code",
   "execution_count": 110,
   "metadata": {},
   "outputs": [
    {
     "data": {
      "text/plain": [
       "14"
      ]
     },
     "execution_count": 110,
     "metadata": {},
     "output_type": "execute_result"
    }
   ],
   "source": [
    "sum(v**2)"
   ]
  },
  {
   "cell_type": "code",
   "execution_count": 160,
   "metadata": {},
   "outputs": [
    {
     "name": "stdout",
     "output_type": "stream",
     "text": [
      "3.7416573867739413\n"
     ]
    }
   ],
   "source": [
    "eucdistv = np.sqrt(sum(v ** 2))\n",
    "print(eucdistv)"
   ]
  },
  {
   "cell_type": "markdown",
   "metadata": {},
   "source": [
    "### Dot Product\n",
    "\n",
    "Anderson (2014, p. 72) gives the formula of the dot product of two vectors: $$\\vec{x}^T \\vec{y} = \\sum_{i=1}^{length (\\vec{x})}{x_i y_i}$$\n",
    "\n",
    "The result of the dot product is a scalar.\n",
    "\n",
    "Example: take\n",
    "\n",
    "$\\vec{x}^T = \\begin{bmatrix}1 & 2 & 3 \\end{bmatrix}$\n",
    "\n",
    "and\n",
    "\n",
    "$\\vec{y} = \\begin{bmatrix} 4 \\\\ 2 \\\\ -1 \\end{bmatrix}$\n",
    "\n",
    "The vector dot product matches the vector elements of the same position, multiplies them, and takes the sum of them:\n",
    "\n",
    "$\\vec{x}^T \\vec{y} = 1\\cdot4 + 2\\cdot2 + 3\\cdot-1 = 4 + 4 - 3 = 5$"
   ]
  },
  {
   "cell_type": "markdown",
   "metadata": {},
   "source": [
    "### Matrix Multiplication\n",
    "\n",
    "For matrix multiplication (not to confuse with (simple) multiplication), you match the elements of rows of one matrix with the elements of columns of another matrix.\n",
    "\n",
    "Take a look at the matrix multiplication of\n",
    "\n",
    "$M1 = \\begin{bmatrix}1 & 2 \\\\ 3 & 4 \\\\ -4 & 6 \\end{bmatrix}$\n",
    " and\n",
    "$M2 = \\begin{bmatrix}1 & 3 & -1 \\\\ 2 & 4 & 3 \\end{bmatrix}$\n",
    "\n",
    "The outcome is a matrix with dot products of all possible combinations of rows in $M1$ and columns in $M2$.\n",
    "\n",
    "<br>\n",
    "First, you match elements of row 1 of $M1$ and elements of column 1 of $M2$.\n",
    "\n",
    "Multiply position $[1,1]$ of $M1$ and $[1,1]$ of $M2$ which makes $ 1 \\cdot 1$ \n",
    "\n",
    "as well as position $[1,2]$ of $M1$ and $[2,1]$ of $M2$ which makes $ 2 \\cdot 2$ \n",
    "\n",
    "and sum them together: $ 1 \\cdot 1 + 2 \\cdot 2 = 5$\n",
    "\n",
    "This outcome is placed in our resulting matrix at position $[1,1]$, thus\n",
    "\n",
    "$\\begin{bmatrix}1 & 2 \\\\ 3 & 4 \\\\ -4 & 6 \\end{bmatrix} \\begin{bmatrix}1 & 3 & -1 \\\\ 2 & 4 & 3 \\end{bmatrix}= \\begin{bmatrix}5 & .. & ..\\\\ .. & .. & .. \\\\ .. & .. & .. \\end{bmatrix}$\n",
    "\n",
    "<br>\n",
    "Second, you match elements of row 1 of $M1$ and elements of column 2 of $M2$.\n",
    "\n",
    "Multiply position $[1,1]$ of $M1$ and $[1,2]$ of $M2$ which makes $ 1 \\cdot 3$ \n",
    "\n",
    "as well as position $[1,2]$ of $M1$ and $[2,2]$ of $M2$ which makes $ 2 \\cdot 4$ \n",
    "\n",
    "and sum them together: $ 1 \\cdot 3 + 2 \\cdot 4 = 11$\n",
    "\n",
    "This outcome is placed in our resulting matrix at position $[1,2]$, thus\n",
    "\n",
    "$\\begin{bmatrix}1 & 2 \\\\ 3 & 4 \\\\ -4 & 6 \\end{bmatrix} \\begin{bmatrix}1 & 3 & -1 \\\\ 2 & 4 & 3 \\end{bmatrix}= \\begin{bmatrix}5 & 11 & ..\\\\.. & .. & .. \\\\ .. & .. & .. \\end{bmatrix}$\n",
    "\n",
    "<br>\n",
    "Then, match elements of row 1 of $M1$ and elements of column 3 of $M2$.\n",
    "\n",
    "Multiply position $[1,1]$ of $M1$ and $[1,3]$ of $M2$ which makes $ 1 \\cdot -1$ \n",
    "\n",
    "as well as position $[1,2]$ of $M1$ and $[2,3]$ of $M2$ which makes $ 2 \\cdot 3$ \n",
    "\n",
    "and sum them together: $ 1 \\cdot -1 + 2 \\cdot 3 = 5$\n",
    "\n",
    "This outcome is placed in our resulting matrix at position $[1,3]$, thus\n",
    "\n",
    "$\\begin{bmatrix}1 & 2 \\\\ 3 & 4 \\\\ -4 & 6 \\end{bmatrix} \\begin{bmatrix}1 & 3 & -1 \\\\ 2 & 4 & 3 \\end{bmatrix}= \\begin{bmatrix}5 & 11 & 5 \\\\.. & .. & .. \\\\ .. & .. & .. \\end{bmatrix}$\n",
    "\n",
    "<br>\n",
    "Then, you go to row 2 of $M1$ and match its elements with elements of the culumns of $M2$\n",
    "\n",
    "Start with multiplying position $[2,1]$ of $M1$ and $[1,1]$ of $M2$ which makes $ 3 \\cdot 1$ \n",
    "\n",
    "as well as position $[2,2]$ of $M1$ and $[2,1]$ of $M2$ which makes $ 4 \\cdot 2$ \n",
    "\n",
    "and sum them together: $ 3 \\cdot 1 + 4 \\cdot 2 = 11$\n",
    "\n",
    "This outcome is placed in our resulting matrix at position $[2,1]$, thus\n",
    "\n",
    "$\\begin{bmatrix}1 & 2 \\\\ 3 & 4 \\\\ -4 & 6 \\end{bmatrix} \\begin{bmatrix}1 & 3 & -1 \\\\ 2 & 4 & 3 \\end{bmatrix}= \\begin{bmatrix}5 & 11 & 5 \\\\ 11 & .. & .. \\\\ .. & .. & .. \\end{bmatrix}$\n",
    "\n",
    "<br>\n",
    "...\n",
    "\n",
    "<br>\n",
    "Finally, you will end up with the following result:\n",
    "\n",
    "$\\begin{bmatrix}1 & 2 \\\\ 3 & 4 \\\\ -4 & 6 \\end{bmatrix} \\begin{bmatrix}1 & 3 & -1 \\\\ 2 & 4 & 3 \\end{bmatrix}= \\begin{bmatrix}5 & 11 & 5 \\\\ 11 & 25 & 9 \\\\ 8 & 12 & 22 \\end{bmatrix}$ "
   ]
  },
  {
   "cell_type": "markdown",
   "metadata": {},
   "source": [
    "##### Caution\n",
    "\n",
    "I. The <strong>sizes</strong> of matrices must match in matrix mutiplication: the number of columns of $M1$ is the same as the number of rows of $M2$, and vice versa. That means that $dimension(M1) = dimension(M2^T)$.\n",
    "\n",
    "II. The <strong>order</strong> of matrices matters in matrix multiplication.\n",
    "\n",
    "Take a look at the matrix multiplication $M2$ $M1$:\n",
    "\n",
    "$\\begin{bmatrix}1 & 3 & -1 \\\\ 2 & 4 & 3 \\end{bmatrix} \\begin{bmatrix}1 & 2 \\\\ 3 & 4 \\\\ -4 & 6 \\end{bmatrix} = \\begin{bmatrix}14 & 8 \\\\ 2 & 38 \\end{bmatrix}$ \n",
    "\n",
    "Why is this?\n",
    "\n",
    "Match elements of row 1 of $M2$ and elements of column 1 of $M1$.\n",
    "\n",
    "Multiply position $[1,1]$ of $M2$ and $[1,1]$ of $1$ which makes $ 1 \\cdot 1$ \n",
    "\n",
    "as well as position $[1,2]$ of $M2$ and $[2,1]$ of $M2$ which makes $ 3 \\cdot 3$ \n",
    "\n",
    "as well as position $[1,3]$ of $M2$ and $[3,1]$ of $M2$ which makes $ -1 \\cdot -4$ \n",
    "\n",
    "and sum them together: $ 1 \\cdot 1 + 3 \\cdot 3 + -1 \\cdot -4 = 14$\n",
    "\n",
    "This outcome is placed in our resulting matrix at position $[1,1]$."
   ]
  },
  {
   "cell_type": "markdown",
   "metadata": {},
   "source": [
    "##### Vector dot product and matrix multiplication\n",
    "\n",
    "Remember the dot product of a vector? Here you calculated same way ... think of the two vectors $\\vec{x}^T$ and $\\vec{y}$ as matrices with either only one row or one column:\n",
    "\n",
    "$\\begin{bmatrix}1 & 2 & 3 \\end{bmatrix} \\begin{bmatrix} 4 \\\\ 2 \\\\ -1 \\end{bmatrix} = 5$\n",
    "\n",
    "You matched position $[1,1]$ of $\\vec{x}^T$ and $[1,1]$ of $\\vec{y}$ and multiplied the elements: $1 \\cdot 4$,\n",
    "\n",
    "multiplied elements at position $[1,2]$ of $\\vec{x}^T$ and $[2,1]$ of $\\vec{y}$: $2 \\cdot 2$\n",
    "\n",
    "multiplied elements at position $[1,3]$ of $\\vec{x}^T$ and $[3,1]$ of $\\vec{y}$: $3 \\cdot -1$ \n",
    "\n",
    "And summed it together: $1 \\cdot 4 + 2 \\cdot 2 + 3 \\cdot -1 = 5$"
   ]
  },
  {
   "cell_type": "markdown",
   "metadata": {},
   "source": [
    "<h3> Python Implementation </h3>\n",
    "\n",
    "In Python3 / Numpy, we can make use of np.dot() to achieve the dot product of two 1D-arrays (vectors), or the matrix multiplication of two 2D-arrays (matrices). See <a href='https://docs.scipy.org/doc/numpy/reference/generated/numpy.dot.html'> numpy.dot </a>\n",
    "\n",
    "Here is the vector dot product of  $\\vec{x}^T$ and $\\vec{y}$."
   ]
  },
  {
   "cell_type": "code",
   "execution_count": 161,
   "metadata": {},
   "outputs": [
    {
     "name": "stdout",
     "output_type": "stream",
     "text": [
      "[[1 2 3]]\n",
      "[[ 4]\n",
      " [ 2]\n",
      " [-1]]\n"
     ]
    }
   ],
   "source": [
    "xt = np.array([[1], [2], [3]]).T\n",
    "y = np.array([[4], [2], [-1]])\n",
    "\n",
    "print(xt)\n",
    "print(y)"
   ]
  },
  {
   "cell_type": "code",
   "execution_count": 162,
   "metadata": {},
   "outputs": [
    {
     "name": "stdout",
     "output_type": "stream",
     "text": [
      "[[5]]\n"
     ]
    }
   ],
   "source": [
    "print(np.dot(xt, y))"
   ]
  },
  {
   "cell_type": "markdown",
   "metadata": {},
   "source": [
    "Here is the matrix multiplication of $M1 = \\begin{bmatrix}1 & 2 \\\\ 3 & 4 \\\\ -4 & 6 \\end{bmatrix}$\n",
    " and\n",
    "$M2 = \\begin{bmatrix}1 & 3 & -1 \\\\ 2 & 4 & 3 \\end{bmatrix}$ in Python:"
   ]
  },
  {
   "cell_type": "code",
   "execution_count": 164,
   "metadata": {},
   "outputs": [
    {
     "name": "stdout",
     "output_type": "stream",
     "text": [
      "[[ 5 11  5]\n",
      " [11 25  9]\n",
      " [ 8 12 22]]\n",
      "...\n",
      "[[ 5 11  5]\n",
      " [11 25  9]\n",
      " [ 8 12 22]]\n"
     ]
    }
   ],
   "source": [
    "mat1 = np.matrix('1 2; 3 4; -4 6')\n",
    "mat2 = np.matrix('1 3 -1; 2 4 3')\n",
    "\n",
    "print(np.dot(mat1, mat2))\n",
    "print(\"...\")\n",
    "print(mat1 * mat2)"
   ]
  },
  {
   "cell_type": "markdown",
   "metadata": {},
   "source": [
    "And here is the matrix multiplication of $M2$ and $M1$ (changed order):"
   ]
  },
  {
   "cell_type": "code",
   "execution_count": 166,
   "metadata": {},
   "outputs": [
    {
     "name": "stdout",
     "output_type": "stream",
     "text": [
      "[[14  8]\n",
      " [ 2 38]]\n",
      "...\n",
      "[[14  8]\n",
      " [ 2 38]]\n"
     ]
    }
   ],
   "source": [
    "print(np.dot(mat2, mat1))\n",
    "print(\"...\")\n",
    "print(mat2 * mat1)"
   ]
  },
  {
   "cell_type": "markdown",
   "metadata": {},
   "source": [
    "**BONUS:** As you have already guessed, Python can also make use of vectors as 2-dimensional arrays that still only have a single row or column. This makes it possible to use np.matrix() for a simpler syntax:"
   ]
  },
  {
   "cell_type": "code",
   "execution_count": 167,
   "metadata": {},
   "outputs": [
    {
     "name": "stdout",
     "output_type": "stream",
     "text": [
      "[[1 2 3]]\n",
      "[[4]\n",
      " [5]\n",
      " [6]]\n"
     ]
    }
   ],
   "source": [
    "va = np.matrix('1 2 3')\n",
    "vb = np.matrix('4 5 6').T\n",
    "print(va)\n",
    "print(vb)"
   ]
  },
  {
   "cell_type": "code",
   "execution_count": 168,
   "metadata": {},
   "outputs": [
    {
     "name": "stdout",
     "output_type": "stream",
     "text": [
      "The dot product of va and vb is: [[32]] .\n"
     ]
    }
   ],
   "source": [
    "print(\"The dot product of va and vb is:\", np.dot(va, vb), \".\")"
   ]
  }
 ],
 "metadata": {
  "kernelspec": {
   "display_name": "Python 3.7",
   "language": "python",
   "name": "py3_7"
  },
  "language_info": {
   "codemirror_mode": {
    "name": "ipython",
    "version": 3
   },
   "file_extension": ".py",
   "mimetype": "text/x-python",
   "name": "python",
   "nbconvert_exporter": "python",
   "pygments_lexer": "ipython3",
   "version": "3.7.3"
  }
 },
 "nbformat": 4,
 "nbformat_minor": 4
}
